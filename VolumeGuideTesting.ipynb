{
 "cells": [
  {
   "cell_type": "code",
   "execution_count": 1,
   "metadata": {},
   "outputs": [
    {
     "name": "stderr",
     "output_type": "stream",
     "text": [
      "pybullet build time: Jul 17 2023 13:38:55\n"
     ]
    }
   ],
   "source": [
    "from pybullet_environment import *\n",
    "from guide import *"
   ]
  },
  {
   "cell_type": "code",
   "execution_count": 2,
   "metadata": {},
   "outputs": [
    {
     "name": "stdout",
     "output_type": "stream",
     "text": [
      "argv[0]=\n",
      "startThreads creating 1 threads.\n",
      "starting thread 0\n",
      "started thread 0 \n",
      "argc=3\n",
      "argv[0] = --unused\n",
      "argv[1] = \n",
      "argv[2] = --start_demo_name=Physics Server\n",
      "ExampleBrowserThreadFunc started\n",
      "X11 functions dynamically loaded using dlopen/dlsym OK!\n",
      "X11 functions dynamically loaded using dlopen/dlsym OK!\n",
      "Creating context\n",
      "Created GL 3.3 context\n",
      "Direct GLX rendering context obtained\n",
      "Making context current\n",
      "GL_VENDOR=NVIDIA Corporation\n",
      "GL_RENDERER=NVIDIA GeForce GTX 1660 Ti/PCIe/SSE2\n",
      "GL_VERSION=3.3.0 NVIDIA 535.86.05\n",
      "GL_SHADING_LANGUAGE_VERSION=3.30 NVIDIA via Cg compiler\n",
      "pthread_getconcurrency()=0\n",
      "Version = 3.3.0 NVIDIA 535.86.05\n",
      "Vendor = NVIDIA Corporation\n",
      "Renderer = NVIDIA GeForce GTX 1660 Ti/PCIe/SSE2\n",
      "b3Printf: Selected demo: Physics Server\n",
      "startThreads creating 1 threads.\n",
      "starting thread 0\n",
      "started thread 0 \n",
      "MotionThreadFunc thread started\n"
     ]
    }
   ],
   "source": [
    "env = RobotEnvironment(manipulator = True)\n",
    "guide = IntersectionVolumeGuide(env)"
   ]
  },
  {
   "cell_type": "code",
   "execution_count": 16,
   "metadata": {},
   "outputs": [],
   "source": [
    "traj = np.load(\"traj.npy\")\n",
    "start_joints = traj[0, :]\n",
    "goal_joints = traj[-1, :]"
   ]
  },
  {
   "cell_type": "code",
   "execution_count": 22,
   "metadata": {},
   "outputs": [
    {
     "name": "stdout",
     "output_type": "stream",
     "text": [
      "[ 0.55        0.5573511  -0.1629493  -1.9912002  -0.23168434  2.214461\n",
      " -0.38091224]\n"
     ]
    }
   ],
   "source": [
    "goal_joints[0] = 0.55\n",
    "print(goal_joints)"
   ]
  },
  {
   "cell_type": "code",
   "execution_count": 24,
   "metadata": {},
   "outputs": [],
   "source": [
    "joint_config = np.zeros((9,))[:-2]\n",
    "joint_config[0] = -0.371\n",
    "joint_config[1] = 0.522\n",
    "joint_config[2] = -0.134\n",
    "joint_config[3] = -1.4\n",
    "joint_config[4] = 0.341\n",
    "joint_config[5] = 1.7\n",
    "joint_config[6] = 0.572\n",
    "\n",
    "for i, joint_ind in enumerate(env.joints):\n",
    "    env.client_id.resetJointState(env.manipulator, joint_ind, joint_config[i])"
   ]
  },
  {
   "cell_type": "code",
   "execution_count": 13,
   "metadata": {},
   "outputs": [],
   "source": [
    "for i, joint_ind in enumerate(env.joints):\n",
    "    env.client_id.resetJointState(env.manipulator, joint_ind, start_joints[i])"
   ]
  },
  {
   "cell_type": "code",
   "execution_count": 25,
   "metadata": {},
   "outputs": [],
   "source": [
    "for i, joint_ind in enumerate(env.joints):\n",
    "    env.client_id.resetJointState(env.manipulator, joint_ind, goal_joints[i])"
   ]
  },
  {
   "cell_type": "code",
   "execution_count": 11,
   "metadata": {},
   "outputs": [],
   "source": [
    "obs_pos = np.array([0.6, 0., 0.24])\n",
    "obs_ori = np.array([0., 0., 0.])\n",
    "obs_quat = np.array(env.client_id.getQuaternionFromEuler(obs_ori))\n",
    "obs_pose = np.array([*obs_pos, *obs_quat])\n",
    "\n",
    "obs_size = np.array([0.5, 0.06, 0.48])\n",
    "\n",
    "vuid = env.client_id.createVisualShape(p.GEOM_BOX, \n",
    "                                       halfExtents = obs_size/2,\n",
    "                                       rgbaColor = np.hstack([env.colors['yellow'], np.array([1.0])]))\n",
    "\n",
    "obs_id = env.client_id.createMultiBody(baseVisualShapeIndex = vuid, \n",
    "                                       basePosition = obs_pos, \n",
    "                                       baseOrientation = obs_quat)"
   ]
  },
  {
   "cell_type": "code",
   "execution_count": 10,
   "metadata": {},
   "outputs": [],
   "source": [
    "env.client_id.removeBody(obs_id)"
   ]
  },
  {
   "cell_type": "code",
   "execution_count": 9,
   "metadata": {},
   "outputs": [],
   "source": [
    "joint_config = np.zeros((9,))[:-2]\n",
    "joint_config[0] = 0.11\n",
    "joint_config[1] = 0.913\n",
    "joint_config[2] = 0.12\n",
    "joint_config[3] = -0.96\n",
    "joint_config[4] = 0.23\n",
    "joint_config[5] = 1.43\n",
    "joint_config[6] = 0.3\n",
    "\n",
    "for i, joint_ind in enumerate(env.joints):\n",
    "    env.client_id.resetJointState(env.manipulator, joint_ind, joint_config[i])"
   ]
  },
  {
   "cell_type": "code",
   "execution_count": 10,
   "metadata": {},
   "outputs": [],
   "source": [
    "joint_tensor = torch.tensor(joint_config, dtype = torch.float32)\n",
    "joint_tensor.requires_grad = True"
   ]
  },
  {
   "cell_type": "code",
   "execution_count": 12,
   "metadata": {},
   "outputs": [
    {
     "ename": "",
     "evalue": "",
     "output_type": "error",
     "traceback": [
      "\u001b[1;31mThe Kernel crashed while executing code in the the current cell or a previous cell. Please review the code in the cell(s) to identify a possible cause of the failure. Click <a href='https://aka.ms/vscodeJupyterKernelCrash'>here</a> for more info. View Jupyter <a href='command:jupyter.viewOutput'>log</a> for further details."
     ]
    }
   ],
   "source": [
    "for _ in range(100):\n",
    "\n",
    "    joint_tensor.grad = None\n",
    "    cost = guide.cost(joint_tensor, obs_pose, obs_size)\n",
    "\n",
    "    cost.backward()\n",
    "\n",
    "    with torch.no_grad():\n",
    "        joint_tensor -= 0.2 * joint_tensor.grad\n",
    "\n",
    "    # joint_config = joint_tensor.detach().numpy()\n",
    "    # for i, joint_ind in enumerate(env.joints):\n",
    "    #     env.client_id.resetJointState(env.manipulator, joint_ind, joint_config[i])"
   ]
  },
  {
   "cell_type": "code",
   "execution_count": 9,
   "metadata": {},
   "outputs": [
    {
     "name": "stdout",
     "output_type": "stream",
     "text": [
      "tensor([-0.0462,  0.0962, -0.0306, -0.0592, -0.0029, -0.0081, -0.0001])\n"
     ]
    },
    {
     "ename": "",
     "evalue": "",
     "output_type": "error",
     "traceback": [
      "\u001b[1;31mThe Kernel crashed while executing code in the the current cell or a previous cell. Please review the code in the cell(s) to identify a possible cause of the failure. Click <a href='https://aka.ms/vscodeJupyterKernelCrash'>here</a> for more info. View Jupyter <a href='command:jupyter.viewOutput'>log</a> for further details."
     ]
    }
   ],
   "source": [
    "print(joint_tensor.grad)"
   ]
  }
 ],
 "metadata": {
  "kernelspec": {
   "display_name": "base",
   "language": "python",
   "name": "python3"
  },
  "language_info": {
   "codemirror_mode": {
    "name": "ipython",
    "version": 3
   },
   "file_extension": ".py",
   "mimetype": "text/x-python",
   "name": "python",
   "nbconvert_exporter": "python",
   "pygments_lexer": "ipython3",
   "version": "3.10.10"
  },
  "orig_nbformat": 4
 },
 "nbformat": 4,
 "nbformat_minor": 2
}
