{
 "cells": [
  {
   "cell_type": "code",
   "execution_count": 1,
   "metadata": {},
   "outputs": [
    {
     "name": "stderr",
     "output_type": "stream",
     "text": [
      "pybullet build time: Jul 17 2023 13:38:55\n"
     ]
    }
   ],
   "source": [
    "from pybullet_environment import *\n",
    "from guide_previous import IntersectionVolumeGuide as guide1\n",
    "from guide import IntersectionVolumeGuide as guide2\n",
    "\n",
    "device = \"cuda\" if torch.cuda.is_available() else \"cpu\""
   ]
  },
  {
   "cell_type": "code",
   "execution_count": 2,
   "metadata": {},
   "outputs": [
    {
     "name": "stdout",
     "output_type": "stream",
     "text": [
      "argv[0]=\n"
     ]
    }
   ],
   "source": [
    "env = RobotEnvironment(manipulator = True, gui = False)\n",
    "guide_seq = guide1(env)"
   ]
  },
  {
   "cell_type": "code",
   "execution_count": 3,
   "metadata": {},
   "outputs": [],
   "source": [
    "obstacle_config = np.zeros((1, 10))\n",
    "\n",
    "# Obstacle A:\n",
    "obs_pos = np.array([0.6, 0., 0.18])\n",
    "obs_quat = np.array(env.client_id.getQuaternionFromEuler(np.array([0., 0., 0.])))\n",
    "obs_size = np.array([0.5, 0.4, 0.36])\n",
    "obstacle_config[0] = np.array([*obs_pos, *obs_quat, *obs_size])\n",
    "\n",
    "# Obstacle B:\n",
    "# obs_pos = np.array([0.7, 0., 0.6])\n",
    "# obs_quat = np.array(env.client_id.getQuaternionFromEuler(np.array([0., 0., 0.])))\n",
    "# obs_size = np.array([0.3, 0.12, 1.2])\n",
    "# obstacle_config[1] = np.array([*obs_pos, *obs_quat, *obs_size])\n",
    "\n",
    "env.spawn_obstacles(obstacle_config)"
   ]
  },
  {
   "cell_type": "code",
   "execution_count": 19,
   "metadata": {},
   "outputs": [],
   "source": [
    "env.clear_obstacles()"
   ]
  },
  {
   "cell_type": "code",
   "execution_count": 4,
   "metadata": {},
   "outputs": [],
   "source": [
    "guide_parallel = guide2(env, obstacle_config, device)"
   ]
  },
  {
   "cell_type": "code",
   "execution_count": 5,
   "metadata": {},
   "outputs": [
    {
     "name": "stdout",
     "output_type": "stream",
     "text": [
      "Link  torch.Size([1, 1, 9, 4, 4])\n",
      "tensor(0.0107, device='cuda:0')\n",
      "tensor(0.0107)\n"
     ]
    }
   ],
   "source": [
    "joint_config = np.zeros((9,))[:-2]\n",
    "joint_config[0] = 0.11\n",
    "joint_config[1] = 0.913\n",
    "joint_config[2] = 0.12\n",
    "joint_config[3] = -0.96\n",
    "joint_config[4] = 0.23\n",
    "joint_config[5] = 1.43\n",
    "joint_config[6] = 0.3\n",
    "\n",
    "joint_config = torch.tensor(joint_config[np.newaxis, :, np.newaxis], dtype = torch.float32, device = device)\n",
    "\n",
    "print(guide_parallel.cost2(joint_config))\n",
    "\n",
    "obs_pose = np.array([*obs_pos, *obs_quat])\n",
    "print(guide_seq.cost(joint_config[0, :, 0], obs_pose, obs_size))"
   ]
  },
  {
   "cell_type": "code",
   "execution_count": 5,
   "metadata": {},
   "outputs": [],
   "source": [
    "joint_config = np.zeros((9,))[:-2]\n",
    "joint_config[0] = -0.371\n",
    "joint_config[1] = 0.522\n",
    "joint_config[2] = -0.134\n",
    "joint_config[3] = -1.4\n",
    "joint_config[4] = 0.341\n",
    "joint_config[5] = 1.7\n",
    "joint_config[6] = 0.572\n",
    "\n",
    "for i, joint_ind in enumerate(env.joints):\n",
    "    env.client_id.resetJointState(env.manipulator, joint_ind, joint_config[i])"
   ]
  },
  {
   "cell_type": "code",
   "execution_count": 13,
   "metadata": {},
   "outputs": [],
   "source": [
    "for i, joint_ind in enumerate(env.joints):\n",
    "    env.client_id.resetJointState(env.manipulator, joint_ind, start_joints[i])"
   ]
  },
  {
   "cell_type": "code",
   "execution_count": 11,
   "metadata": {},
   "outputs": [],
   "source": [
    "goal_joints = np.array([0.9798614, 0.5573511, -0.1629493, -1.9912002, -0.23168434, 2.214461, -0.38091224, 0., 0.])\n",
    "\n",
    "for i, joint_ind in enumerate(env.joints):\n",
    "    env.client_id.resetJointState(env.manipulator, joint_ind, goal_joints[i])"
   ]
  },
  {
   "cell_type": "code",
   "execution_count": 22,
   "metadata": {},
   "outputs": [
    {
     "ename": "",
     "evalue": "",
     "output_type": "error",
     "traceback": [
      "\u001b[1;31mThe Kernel crashed while executing code in the the current cell or a previous cell. Please review the code in the cell(s) to identify a possible cause of the failure. Click <a href='https://aka.ms/vscodeJupyterKernelCrash'>here</a> for more info. View Jupyter <a href='command:jupyter.viewOutput'>log</a> for further details."
     ]
    }
   ],
   "source": [
    "obs_pos = np.array([0.7, 0., 0.6])\n",
    "obs_ori = np.array([0., 0., 0.])\n",
    "obs_quat = np.array(env.client_id.getQuaternionFromEuler(obs_ori))\n",
    "obs_pose = np.array([*obs_pos, *obs_quat])\n",
    "\n",
    "obs_size = np.array([0.3, 0.12, 1.2])\n",
    "\n",
    "vuid = env.client_id.createVisualShape(p.GEOM_BOX, \n",
    "                                       halfExtents = obs_size/2,\n",
    "                                       rgbaColor = np.hstack([env.colors['yellow'], np.array([1.0])]))\n",
    "\n",
    "obs_id = env.client_id.createMultiBody(baseVisualShapeIndex = vuid, \n",
    "                                       basePosition = obs_pos, \n",
    "                                       baseOrientation = obs_quat)"
   ]
  },
  {
   "cell_type": "code",
   "execution_count": 21,
   "metadata": {},
   "outputs": [],
   "source": [
    "env.client_id.removeBody(obs_id)"
   ]
  },
  {
   "cell_type": "code",
   "execution_count": 8,
   "metadata": {},
   "outputs": [],
   "source": [
    "joint_config = np.zeros((9,))[:-2]\n",
    "joint_config[0] = 0.11\n",
    "joint_config[1] = 0.913\n",
    "joint_config[2] = 0.12\n",
    "joint_config[3] = -0.96\n",
    "joint_config[4] = 0.23\n",
    "joint_config[5] = 1.43\n",
    "joint_config[6] = 0.3\n",
    "\n",
    "for i, joint_ind in enumerate(env.joints):\n",
    "    env.client_id.resetJointState(env.manipulator, joint_ind, joint_config[i])"
   ]
  },
  {
   "cell_type": "code",
   "execution_count": 10,
   "metadata": {},
   "outputs": [],
   "source": [
    "joint_tensor = torch.tensor(joint_config, dtype = torch.float32)\n",
    "joint_tensor.requires_grad = True"
   ]
  },
  {
   "cell_type": "code",
   "execution_count": 12,
   "metadata": {},
   "outputs": [
    {
     "ename": "",
     "evalue": "",
     "output_type": "error",
     "traceback": [
      "\u001b[1;31mThe Kernel crashed while executing code in the the current cell or a previous cell. Please review the code in the cell(s) to identify a possible cause of the failure. Click <a href='https://aka.ms/vscodeJupyterKernelCrash'>here</a> for more info. View Jupyter <a href='command:jupyter.viewOutput'>log</a> for further details."
     ]
    }
   ],
   "source": [
    "for _ in range(100):\n",
    "\n",
    "    joint_tensor.grad = None\n",
    "    cost = guide.cost(joint_tensor, obs_pose, obs_size)\n",
    "\n",
    "    cost.backward()\n",
    "\n",
    "    with torch.no_grad():\n",
    "        joint_tensor -= 0.2 * joint_tensor.grad\n",
    "\n",
    "    # joint_config = joint_tensor.detach().numpy()\n",
    "    # for i, joint_ind in enumerate(env.joints):\n",
    "    #     env.client_id.resetJointState(env.manipulator, joint_ind, joint_config[i])"
   ]
  },
  {
   "cell_type": "code",
   "execution_count": 9,
   "metadata": {},
   "outputs": [
    {
     "name": "stdout",
     "output_type": "stream",
     "text": [
      "tensor([-0.0462,  0.0962, -0.0306, -0.0592, -0.0029, -0.0081, -0.0001])\n"
     ]
    },
    {
     "ename": "",
     "evalue": "",
     "output_type": "error",
     "traceback": [
      "\u001b[1;31mThe Kernel crashed while executing code in the the current cell or a previous cell. Please review the code in the cell(s) to identify a possible cause of the failure. Click <a href='https://aka.ms/vscodeJupyterKernelCrash'>here</a> for more info. View Jupyter <a href='command:jupyter.viewOutput'>log</a> for further details."
     ]
    }
   ],
   "source": [
    "print(joint_tensor.grad)"
   ]
  }
 ],
 "metadata": {
  "kernelspec": {
   "display_name": "base",
   "language": "python",
   "name": "python3"
  },
  "language_info": {
   "codemirror_mode": {
    "name": "ipython",
    "version": 3
   },
   "file_extension": ".py",
   "mimetype": "text/x-python",
   "name": "python",
   "nbconvert_exporter": "python",
   "pygments_lexer": "ipython3",
   "version": "3.10.10"
  },
  "orig_nbformat": 4
 },
 "nbformat": 4,
 "nbformat_minor": 2
}
