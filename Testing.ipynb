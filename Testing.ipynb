{
 "cells": [
  {
   "cell_type": "code",
   "execution_count": 1,
   "metadata": {},
   "outputs": [
    {
     "name": "stderr",
     "output_type": "stream",
     "text": [
      "pybullet build time: Jul 17 2023 13:38:55\n"
     ]
    }
   ],
   "source": [
    "from pybullet_environment import *\n",
    "from guide import *\n",
    "\n",
    "import numpy as np\n",
    "import openGJK_cython as opengjk\n",
    "\n",
    "import torch\n",
    "import transformations"
   ]
  },
  {
   "cell_type": "code",
   "execution_count": 2,
   "metadata": {},
   "outputs": [
    {
     "name": "stdout",
     "output_type": "stream",
     "text": [
      "argv[0]=\n",
      "startThreads creating 1 threads.\n",
      "starting thread 0\n",
      "started thread 0 \n",
      "argc=3\n",
      "argv[0] = --unused\n",
      "argv[1] = \n",
      "argv[2] = --start_demo_name=Physics Server\n",
      "ExampleBrowserThreadFunc started\n",
      "X11 functions dynamically loaded using dlopen/dlsym OK!\n",
      "X11 functions dynamically loaded using dlopen/dlsym OK!\n",
      "Creating context\n",
      "Created GL 3.3 context\n",
      "Direct GLX rendering context obtained\n",
      "Making context current\n",
      "GL_VENDOR=NVIDIA Corporation\n",
      "GL_RENDERER=NVIDIA GeForce GTX 1660 Ti/PCIe/SSE2\n",
      "GL_VERSION=3.3.0 NVIDIA 535.86.05\n",
      "GL_SHADING_LANGUAGE_VERSION=3.30 NVIDIA via Cg compiler\n",
      "pthread_getconcurrency()=0\n",
      "Version = 3.3.0 NVIDIA 535.86.05\n",
      "Vendor = NVIDIA Corporation\n",
      "Renderer = NVIDIA GeForce GTX 1660 Ti/PCIe/SSE2\n",
      "b3Printf: Selected demo: Physics Server\n",
      "startThreads creating 1 threads.\n",
      "starting thread 0\n",
      "started thread 0 \n",
      "MotionThreadFunc thread started\n"
     ]
    },
    {
     "ename": "",
     "evalue": "",
     "output_type": "error",
     "traceback": [
      "\u001b[1;31mThe Kernel crashed while executing code in the the current cell or a previous cell. Please review the code in the cell(s) to identify a possible cause of the failure. Click <a href='https://aka.ms/vscodeJupyterKernelCrash'>here</a> for more info. View Jupyter <a href='command:jupyter.viewOutput'>log</a> for further details."
     ]
    }
   ],
   "source": [
    "env = RobotEnvironment(manipulator = True)\n",
    "guide = IntersectionVolumeGuide(env)"
   ]
  },
  {
   "cell_type": "code",
   "execution_count": 3,
   "metadata": {},
   "outputs": [
    {
     "name": "stdout",
     "output_type": "stream",
     "text": [
      "[[-0.51260864  0.00519596 -0.02712849  0.00903378]\n",
      " [ 0.28385966  0.77498348 -0.43257279  0.30225519]\n",
      " [ 0.74170311 -0.26848391  0.18941703 -0.17430876]\n",
      " [ 0.          0.          0.          0.        ]]\n"
     ]
    },
    {
     "ename": "",
     "evalue": "",
     "output_type": "error",
     "traceback": [
      "\u001b[1;31mThe Kernel crashed while executing code in the the current cell or a previous cell. Please review the code in the cell(s) to identify a possible cause of the failure. Click <a href='https://aka.ms/vscodeJupyterKernelCrash'>here</a> for more info. View Jupyter <a href='command:jupyter.viewOutput'>log</a> for further details."
     ]
    }
   ],
   "source": [
    "joint_id = 3\n",
    "link_id = 2\n",
    "\n",
    "joint_config = np.array([-1.9300085,  1.3141115,  2.1577177, -1.5229155, -0.7427585, 1.4192199, -1.3984755])\n",
    "for i, joint_ind in enumerate(env.joints):\n",
    "    env.client_id.resetJointState(env.manipulator, joint_ind, joint_config[i])\n",
    "\n",
    "fk = (guide.forward_kinematics(joint_id, torch.tensor(joint_config))).numpy()\n",
    "fk_inv = np.linalg.inv(fk)\n",
    "\n",
    "frame_pos, frame_ori = env.client_id.getLinkState(env.manipulator, link_id)[4:6]\n",
    "link_transform = env.pose_to_transformation(np.array([*frame_pos, *frame_ori]))\n",
    "\n",
    "x1 = link_transform @ fk_inv\n",
    "\n",
    "joint_config = np.array([-1.619, 1.51, 1.425, -1.58850, -0.9250, 1.52913, -0.899883])\n",
    "for i, joint_ind in enumerate(env.joints):\n",
    "    env.client_id.resetJointState(env.manipulator, joint_ind, joint_config[i])\n",
    "\n",
    "fk = (guide.forward_kinematics(joint_id, torch.tensor(joint_config))).numpy()\n",
    "fk_inv = np.linalg.inv(fk)\n",
    "\n",
    "env.draw_frame(fk)\n",
    "\n",
    "frame_pos, frame_ori = env.client_id.getLinkState(env.manipulator, link_id)[4:6]\n",
    "link_transform = env.pose_to_transformation(np.array([*frame_pos, *frame_ori]))\n",
    "\n",
    "x2 = link_transform @ fk_inv\n",
    "\n",
    "print(x2 - x1)\n",
    "\n",
    "# print(env.link_poses[0][:3])\n",
    "# print(np.array(env.client_id.getEulerFromQuaternion(env.link_poses[0][3:])) * 180 / np.pi)\n",
    "# link_transform = env.pose_to_transformation(env.link_poses[link_id])"
   ]
  },
  {
   "cell_type": "code",
   "execution_count": 9,
   "metadata": {},
   "outputs": [
    {
     "name": "stdout",
     "output_type": "stream",
     "text": [
      "[[1.    0.    0.    0.   ]\n",
      " [0.    1.    0.    0.   ]\n",
      " [0.    0.    1.    0.333]\n",
      " [0.    0.    0.    1.   ]]\n",
      "[[ 1.00000000e+00 -0.00000000e+00  0.00000000e+00 -8.42500000e-05]\n",
      " [ 0.00000000e+00  0.00000000e+00  1.00000000e+00  3.71962000e-02]\n",
      " [-0.00000000e+00 -1.00000000e+00  0.00000000e+00  4.02395004e-01]\n",
      " [ 0.00000000e+00  0.00000000e+00  0.00000000e+00  1.00000000e+00]]\n",
      "[[ 1.00000000e+00  0.00000000e+00  0.00000000e+00 -8.42500000e-05]\n",
      " [ 0.00000000e+00  0.00000000e+00  1.00000000e+00 -2.95803804e-01]\n",
      " [ 0.00000000e+00 -1.00000000e+00  0.00000000e+00  4.02395004e-01]\n",
      " [ 0.00000000e+00  0.00000000e+00  0.00000000e+00  1.00000000e+00]]\n"
     ]
    }
   ],
   "source": [
    "id = 1\n",
    "link_transform = env.pose_to_transformation(env.link_poses[id])\n",
    "fk = (guide.forward_kinematics(id, torch.tensor(np.zeros((7,))))).numpy()\n",
    "fk_inv = np.linalg.inv(fk)\n",
    "\n",
    "env.draw_frame(link_transform)\n",
    "\n",
    "print(fk)\n",
    "print(link_transform)\n",
    "\n",
    "x = link_transform @ fk_inv\n",
    "print(x)"
   ]
  },
  {
   "cell_type": "code",
   "execution_count": 11,
   "metadata": {},
   "outputs": [
    {
     "name": "stderr",
     "output_type": "stream",
     "text": [
      "X connection to :1 broken (explicit kill or server shutdown).\n"
     ]
    },
    {
     "ename": "",
     "evalue": "",
     "output_type": "error",
     "traceback": [
      "\u001b[1;31mThe Kernel crashed while executing code in the the current cell or a previous cell. Please review the code in the cell(s) to identify a possible cause of the failure. Click <a href='https://aka.ms/vscodeJupyterKernelCrash'>here</a> for more info. View Jupyter <a href='command:jupyter.viewOutput'>log</a> for further details."
     ]
    }
   ],
   "source": [
    "env.draw_frame(fk)"
   ]
  },
  {
   "cell_type": "code",
   "execution_count": null,
   "metadata": {},
   "outputs": [],
   "source": [
    "# Joint 0 to Link 0:\n",
    "[[ 1.00000000e+00  0.00000000e+00  0.00000000e+00  8.71000000e-05]\n",
    " [ 0.00000000e+00  1.00000000e+00  0.00000000e+00 -3.70903500e-02]\n",
    " [ 0.00000000e+00  0.00000000e+00  1.00000000e+00  2.64484554e-01]\n",
    " [ 0.00000000e+00  0.00000000e+00  0.00000000e+00  1.00000000e+00]]\n",
    "\n",
    "# Joint 1 to Link 1:"
   ]
  },
  {
   "cell_type": "code",
   "execution_count": 5,
   "metadata": {},
   "outputs": [
    {
     "name": "stdout",
     "output_type": "stream",
     "text": [
      "[[1.    0.    0.    0.   ]\n",
      " [0.    1.    0.    0.   ]\n",
      " [0.    0.    1.    0.333]\n",
      " [0.    0.    0.    1.   ]]\n"
     ]
    }
   ],
   "source": [
    "fk = (guide.forward_kinematics(1, torch.tensor(np.zeros((7,))))).numpy()\n",
    "print(fk)"
   ]
  },
  {
   "cell_type": "code",
   "execution_count": 4,
   "metadata": {},
   "outputs": [
    {
     "ename": "",
     "evalue": "",
     "output_type": "error",
     "traceback": [
      "\u001b[1;31mThe Kernel crashed while executing code in the the current cell or a previous cell. Please review the code in the cell(s) to identify a possible cause of the failure. Click <a href='https://aka.ms/vscodeJupyterKernelCrash'>here</a> for more info. View Jupyter <a href='command:jupyter.viewOutput'>log</a> for further details."
     ]
    }
   ],
   "source": [
    "for i in range(1, 7):\n",
    "\n",
    "    fk = (guide.forward_kinematics(i, torch.tensor(joint_config))).numpy()\n",
    "    env.draw_frame(fk)\n",
    "    _ = input(\"\")"
   ]
  },
  {
   "cell_type": "code",
   "execution_count": 9,
   "metadata": {},
   "outputs": [
    {
     "ename": "",
     "evalue": "",
     "output_type": "error",
     "traceback": [
      "\u001b[1;31mThe Kernel crashed while executing code in the the current cell or a previous cell. Please review the code in the cell(s) to identify a possible cause of the failure. Click <a href='https://aka.ms/vscodeJupyterKernelCrash'>here</a> for more info. View Jupyter <a href='command:jupyter.viewOutput'>log</a> for further details."
     ]
    }
   ],
   "source": [
    "\n",
    "link_transform = env.pose_to_transformation(env.link_poses[3])\n",
    "env.draw_frame(link_transform, scale_factor = 0.5)\n",
    "    #_ = input(\"\")"
   ]
  },
  {
   "cell_type": "code",
   "execution_count": 14,
   "metadata": {},
   "outputs": [
    {
     "name": "stdout",
     "output_type": "stream",
     "text": [
      "Unit Axes:\n",
      "[[ 0.7071  0.7071  0.    ]\n",
      " [-0.7071  0.7071  0.    ]]\n"
     ]
    },
    {
     "ename": "",
     "evalue": "",
     "output_type": "error",
     "traceback": [
      "\u001b[1;31mThe Kernel crashed while executing code in the the current cell or a previous cell. Please review the code in the cell(s) to identify a possible cause of the failure. Click <a href='https://aka.ms/vscodeJupyterKernelCrash'>here</a> for more info. View Jupyter <a href='command:jupyter.viewOutput'>log</a> for further details."
     ]
    }
   ],
   "source": [
    "def get_unit_axes_from_transform(transform_matrix):\n",
    "    \"\"\"\n",
    "    Extract unit X, Y, and Z axes of the world frame in the transformed frame.\n",
    "    \n",
    "    :param transform_matrix: 4x4 transformation matrix\n",
    "    :return: Array of size (2x3) representing the unit X, Y, and Z axes in the transformed frame\n",
    "    \"\"\"\n",
    "    rotation_matrix = transform_matrix[:3, :3]\n",
    "    unit_axes_world = np.array([[1, 0, 0], [0, 1, 0], [0, 0, 1]])\n",
    "    unit_axes_transformed = np.dot(rotation_matrix, unit_axes_world.T).T\n",
    "    \n",
    "    return unit_axes_transformed[:2]\n",
    "\n",
    "# Example 4x4 transformation matrix\n",
    "transform_matrix = np.array([\n",
    "    [0.7071, -0.7071, 0.0, 1.0],\n",
    "    [0.7071, 0.7071, 0.0, 2.0],\n",
    "    [0.0, 0.0, 1.0, 3.0],\n",
    "    [0.0, 0.0, 0.0, 1.0]\n",
    "])\n",
    "\n",
    "unit_axes = get_unit_axes_from_transform(transform_matrix)\n",
    "print(\"Unit Axes:\")\n",
    "print(unit_axes)"
   ]
  },
  {
   "cell_type": "code",
   "execution_count": 28,
   "metadata": {},
   "outputs": [
    {
     "name": "stdout",
     "output_type": "stream",
     "text": [
      "((0.0, 0.0, 0.05), (0.0, 0.0, 0.0, 1.0))\n",
      "((0.0, 0.0, 0.3330000042915344), (0.0, 0.0, 0.0, 1.0))\n"
     ]
    }
   ],
   "source": [
    "print(env.client_id.getBasePositionAndOrientation(env.manipulator))\n",
    "print(env.client_id.getLinkState(env.manipulator, 0)[4:6])"
   ]
  },
  {
   "cell_type": "code",
   "execution_count": null,
   "metadata": {},
   "outputs": [],
   "source": [
    "link_displacements = [[-0.03475364, 0.01295708, -0.06851545],\n",
    "                      [0.01123399  -0.07589314 0.01769917],\n",
    "                      [0.03306312 0.03418906 0.03651213],\n",
    "                      [0.02470827  -0.05497029 0.00575065],\n",
    "                      [-0.08881844 0.05518941  -0.04171566],\n",
    "                      [0.03112165  -0.01785765 0.02759352],\n",
    "                      [0.05384276 0.04399419  -0.04652401]]\n",
    "\n",
    "[[ 0.76656756 -0.50092286 -0.40180881  0.18912465]\n",
    " [ 0.61213413  0.75910694  0.22146881 -0.41518173]\n",
    " [ 0.19407718 -0.41573173  0.88853875 -0.27538774]\n",
    " [ 0.          0.          0.          1.        ]]\n",
    "\n",
    "[[ 0.76656756 -0.50092286 -0.40180881  0.22882068]\n",
    " [ 0.61213413  0.75910694  0.22146881 -0.38167038]\n",
    " [ 0.19407718 -0.41573173  0.88853875 -0.31778107]\n",
    " [ 0.          0.          0.          1.        ]]"
   ]
  },
  {
   "cell_type": "code",
   "execution_count": 3,
   "metadata": {},
   "outputs": [],
   "source": [
    "env.draw_link_bounding_boxes()"
   ]
  },
  {
   "cell_type": "code",
   "execution_count": 53,
   "metadata": {},
   "outputs": [
    {
     "name": "stdout",
     "output_type": "stream",
     "text": [
      "[11, 10, 9, 8, 7, 6, 5, 4, 3, 2]\n",
      "10\n"
     ]
    }
   ],
   "source": [
    "print(env.link_bounding_objs)\n",
    "print(len(env.link_poses))"
   ]
  },
  {
   "cell_type": "code",
   "execution_count": 30,
   "metadata": {},
   "outputs": [
    {
     "data": {
      "text/plain": [
       "array([180.,  -0.,   0.])"
      ]
     },
     "execution_count": 30,
     "metadata": {},
     "output_type": "execute_result"
    }
   ],
   "source": [
    "hand_pose, hand_ori = env.client_id.getBasePositionAndOrientation(10)\n",
    "\n",
    "change = env.client_id.getQuaternionFromEuler([0., 0., np.pi/2])\n",
    "original = env.client_id.getEulerFromQuaternion(hand_ori)\n",
    "\n",
    "np.array(original) * 180 / np.pi"
   ]
  },
  {
   "cell_type": "code",
   "execution_count": 10,
   "metadata": {},
   "outputs": [],
   "source": [
    "env.clear_bounding_boxes()"
   ]
  },
  {
   "cell_type": "code",
   "execution_count": 54,
   "metadata": {},
   "outputs": [
    {
     "ename": "",
     "evalue": "",
     "output_type": "error",
     "traceback": [
      "\u001b[1;31mThe Kernel crashed while executing code in the the current cell or a previous cell. Please review the code in the cell(s) to identify a possible cause of the failure. Click <a href='https://aka.ms/vscodeJupyterKernelCrash'>here</a> for more info. View Jupyter <a href='command:jupyter.viewOutput'>log</a> for further details."
     ]
    }
   ],
   "source": [
    "    \n",
    "env.client_id.removeBody(11)"
   ]
  },
  {
   "cell_type": "markdown",
   "metadata": {},
   "source": [
    "## Start Joint Configuration:"
   ]
  },
  {
   "cell_type": "markdown",
   "metadata": {},
   "source": [
    "#### From End-effector pose"
   ]
  },
  {
   "cell_type": "code",
   "execution_count": 35,
   "metadata": {},
   "outputs": [
    {
     "name": "stdout",
     "output_type": "stream",
     "text": [
      "(-1.619321477803221, 1.5097250391784747, 1.42505411264574, -1.5885010292282844, -0.9250272674133665, 1.5291345230583324, -0.8998830755305524)\n"
     ]
    }
   ],
   "source": [
    "start = np.array([0.5,  -0.3,  0.1])\n",
    "start_orientation = np.array([-3, -0.6, 1.57])\n",
    "\n",
    "joint_config = env.inverse_kinematics(start, start_orientation)[:-2]\n",
    "print(joint_config)\n",
    "\n",
    "for i, joint_ind in enumerate(env.joints):\n",
    "    env.client_id.resetJointState(env.manipulator, joint_ind, joint_config[i])"
   ]
  },
  {
   "cell_type": "markdown",
   "metadata": {},
   "source": [
    "#### From Joint angles"
   ]
  },
  {
   "cell_type": "code",
   "execution_count": 12,
   "metadata": {},
   "outputs": [],
   "source": [
    "joint_config = np.array([-1.9300085,  1.3141115,  2.1577177, -1.5229155, -0.7427585, 1.4192199, -1.3984755])\n",
    "\n",
    "for i, joint_ind in enumerate(env.joints):\n",
    "    env.client_id.resetJointState(env.manipulator, joint_ind, joint_config[i])"
   ]
  },
  {
   "cell_type": "code",
   "execution_count": 7,
   "metadata": {},
   "outputs": [],
   "source": [
    "joint_config = np.array([-1.619, 1.51, 1.425, -1.58850, -0.9250, 1.52913, -0.899883])\n",
    "\n",
    "for i, joint_ind in enumerate(env.joints):\n",
    "    env.client_id.resetJointState(env.manipulator, joint_ind, joint_config[i])"
   ]
  },
  {
   "cell_type": "markdown",
   "metadata": {},
   "source": [
    "## End Joint Configuration:"
   ]
  },
  {
   "cell_type": "markdown",
   "metadata": {},
   "source": [
    "#### From End-effector pose"
   ]
  },
  {
   "cell_type": "code",
   "execution_count": 3,
   "metadata": {},
   "outputs": [
    {
     "name": "stdout",
     "output_type": "stream",
     "text": [
      "(0.022802318029354115, 1.2834343703383035, 0.019562611797868577, 0.5781106044689629, -0.03151996619547765, 0.6832525013982176, 0.7888675395724642)\n"
     ]
    }
   ],
   "source": [
    "goal = np.array([0.5,  0.01,  0.4])\n",
    "goal_orientation = np.array([3.14, 0, 0])\n",
    "\n",
    "joint_config = env.inverse_kinematics(goal, goal_orientation)[:-2]\n",
    "print(joint_config)\n",
    "\n",
    "for i, joint_ind in enumerate(env.joints):\n",
    "    env.client_id.resetJointState(env.manipulator, joint_ind, joint_config[i])"
   ]
  },
  {
   "cell_type": "markdown",
   "metadata": {},
   "source": [
    "#### From Joint angles"
   ]
  },
  {
   "cell_type": "code",
   "execution_count": 16,
   "metadata": {},
   "outputs": [],
   "source": [
    "joint_config = np.zeros((9,))[:-2]\n",
    "\n",
    "for i, joint_ind in enumerate(env.joints):\n",
    "    env.client_id.resetJointState(env.manipulator, joint_ind, joint_config[i])"
   ]
  },
  {
   "cell_type": "markdown",
   "metadata": {},
   "source": [
    "# -------------------------------------------------------------------------------"
   ]
  },
  {
   "cell_type": "markdown",
   "metadata": {},
   "source": [
    "## Test Obstacle Collision:"
   ]
  },
  {
   "cell_type": "markdown",
   "metadata": {},
   "source": [
    "#### Define Obstacle A:"
   ]
  },
  {
   "cell_type": "code",
   "execution_count": 3,
   "metadata": {},
   "outputs": [],
   "source": [
    "A_pos = np.array([0.2, 0.1, 0.5])\n",
    "A_ori = np.array([0., 0., 0.])\n",
    "A_quat = np.array(env.client_id.getQuaternionFromEuler(A_ori))\n",
    "A_pose = np.array([*A_pos, *A_quat])\n",
    "\n",
    "A_size = np.array([0.5, 0.3, 0.2])\n",
    "\n",
    "vuid = env.client_id.createVisualShape(p.GEOM_BOX, \n",
    "                                       halfExtents = A_size/2,\n",
    "                                       rgbaColor = np.hstack([env.colors['yellow'], np.array([1.0])]))\n",
    "\n",
    "A_id = env.client_id.createMultiBody(baseVisualShapeIndex = vuid, \n",
    "                                       basePosition = A_pos, \n",
    "                                       baseOrientation = A_quat)"
   ]
  },
  {
   "cell_type": "code",
   "execution_count": 4,
   "metadata": {},
   "outputs": [],
   "source": [
    "B_pos = np.array([0.21, 0.11, 0.51])\n",
    "B_ori = np.array([0.1, 0.3, -0.4])\n",
    "B_quat = np.array(env.client_id.getQuaternionFromEuler(B_ori))\n",
    "B_pose = np.array([*B_pos, *B_quat])\n",
    "\n",
    "B_size = np.array([0.15, 0.3, 0.08])\n",
    "\n",
    "vuid = env.client_id.createVisualShape(p.GEOM_BOX, \n",
    "                                       halfExtents = B_size/2,\n",
    "                                       rgbaColor = np.hstack([env.colors['red'], np.array([1.0])]))\n",
    "\n",
    "B_id = env.client_id.createMultiBody(baseVisualShapeIndex = vuid, \n",
    "                                       basePosition = B_pos, \n",
    "                                       baseOrientation = B_quat)"
   ]
  },
  {
   "cell_type": "code",
   "execution_count": 7,
   "metadata": {},
   "outputs": [],
   "source": [
    "x = torch.tensor(B_pose, dtype = torch.float32)\n",
    "x.requires_grad = True\n",
    "\n",
    "a = torch.tensor(A_pose)\n",
    "x_size = torch.tensor(B_size)\n",
    "a_size = torch.tensor(A_size)\n",
    "\n",
    "a_rot = quaternion_to_rotation_matrix(a[3:])\n",
    "\n",
    "x_vertices_static = torch.tensor([[-x_size[0]/2, -x_size[1]/2, -x_size[2]/2],\n",
    "                       [ x_size[0]/2, -x_size[1]/2, -x_size[2]/2],\n",
    "                       [ x_size[0]/2,  x_size[1]/2, -x_size[2]/2],\n",
    "                       [-x_size[0]/2,  x_size[1]/2, -x_size[2]/2],\n",
    "                       [-x_size[0]/2, -x_size[1]/2,  x_size[2]/2],\n",
    "                       [ x_size[0]/2, -x_size[1]/2,  x_size[2]/2],\n",
    "                       [ x_size[0]/2,  x_size[1]/2,  x_size[2]/2],\n",
    "                       [-x_size[0]/2,  x_size[1]/2,  x_size[2]/2]], dtype = torch.float32).T\n",
    "\n",
    "a_vertices_static = torch.tensor([[-a_size[0]/2, -a_size[1]/2, -a_size[2]/2],\n",
    "                       [ a_size[0]/2, -a_size[1]/2, -a_size[2]/2],\n",
    "                       [ a_size[0]/2,  a_size[1]/2, -a_size[2]/2],\n",
    "                       [-a_size[0]/2,  a_size[1]/2, -a_size[2]/2],\n",
    "                       [-a_size[0]/2, -a_size[1]/2,  a_size[2]/2],\n",
    "                       [ a_size[0]/2, -a_size[1]/2,  a_size[2]/2],\n",
    "                       [ a_size[0]/2,  a_size[1]/2,  a_size[2]/2],\n",
    "                       [-a_size[0]/2,  a_size[1]/2,  a_size[2]/2]], dtype = torch.float32).T\n",
    "\n",
    "a_vertices = (a_rot @ a_vertices_static) + a[:3].unsqueeze(1)"
   ]
  },
  {
   "cell_type": "code",
   "execution_count": 8,
   "metadata": {},
   "outputs": [
    {
     "ename": "",
     "evalue": "",
     "output_type": "error",
     "traceback": [
      "\u001b[1;31mThe Kernel crashed while executing code in the the current cell or a previous cell. Please review the code in the cell(s) to identify a possible cause of the failure. Click <a href='https://aka.ms/vscodeJupyterKernelCrash'>here</a> for more info. View Jupyter <a href='command:jupyter.viewOutput'>log</a> for further details."
     ]
    }
   ],
   "source": [
    "for _ in range(2000):\n",
    "\n",
    "    x.grad = None\n",
    "\n",
    "    x_rot = quaternion_to_rotation_matrix(x[3:])\n",
    "\n",
    "    x_vertices = (x_rot @ x_vertices_static) + x[:3].unsqueeze(1)\n",
    "\n",
    "    x_min = torch.min(x_vertices, dim = 1)[0]\n",
    "    x_max = torch.max(x_vertices, dim = 1)[0]\n",
    "\n",
    "    a_min = torch.min(a_vertices, dim = 1)[0]\n",
    "    a_max = torch.max(a_vertices, dim = 1)[0]\n",
    "\n",
    "    overlap_min = torch.max(x_min, a_min)\n",
    "    overlap_max = torch.min(x_max, a_max)\n",
    "\n",
    "    overlap_lengths = overlap_max - overlap_min\n",
    "    volume = torch.prod(torch.clamp(overlap_lengths, min = 0))\n",
    "\n",
    "    volume.backward()\n",
    "\n",
    "    with torch.no_grad():\n",
    "        x -= 0.01 * x.grad\n",
    "\n",
    "    env.client_id.resetBasePositionAndOrientation(B_id, x[:3].detach().numpy(), x[3:].detach().numpy())"
   ]
  },
  {
   "cell_type": "code",
   "execution_count": 78,
   "metadata": {},
   "outputs": [
    {
     "name": "stdout",
     "output_type": "stream",
     "text": [
      "tensor([-0.0342,  0.0345, -0.0443,  0.0111,  0.0056, -0.0089, -0.0036])\n"
     ]
    }
   ],
   "source": [
    "volume.backward()\n",
    "print(x.grad)"
   ]
  },
  {
   "cell_type": "code",
   "execution_count": 6,
   "metadata": {},
   "outputs": [],
   "source": [
    "env.client_id.removeBody(B_id)"
   ]
  },
  {
   "cell_type": "markdown",
   "metadata": {},
   "source": [
    "# -------------------------------------------------------------------------------"
   ]
  },
  {
   "cell_type": "code",
   "execution_count": 6,
   "metadata": {},
   "outputs": [],
   "source": [
    "def quaternion_to_rotation_matrix(quaternion):\n",
    "    # Ensure the quaternion is normalized\n",
    "    quaternion = quaternion / torch.norm(quaternion)\n",
    "    \n",
    "    w, x, y, z = quaternion[0], quaternion[1], quaternion[2], quaternion[3]\n",
    "    rotation_matrix = torch.zeros((3, 3), dtype=torch.float32)\n",
    "    \n",
    "    rotation_matrix[0, 0] = 1 - 2 * (y * y + z * z)\n",
    "    rotation_matrix[0, 1] = 2 * (x * y - w * z)\n",
    "    rotation_matrix[0, 2] = 2 * (x * z + w * y)\n",
    "    \n",
    "    rotation_matrix[1, 0] = 2 * (x * y + w * z)\n",
    "    rotation_matrix[1, 1] = 1 - 2 * (x * x + z * z)\n",
    "    rotation_matrix[1, 2] = 2 * (y * z - w * x)\n",
    "    \n",
    "    rotation_matrix[2, 0] = 2 * (x * z - w * y)\n",
    "    rotation_matrix[2, 1] = 2 * (y * z + w * x)\n",
    "    rotation_matrix[2, 2] = 1 - 2 * (x * x + y * y)\n",
    "    \n",
    "    return rotation_matrix"
   ]
  },
  {
   "cell_type": "code",
   "execution_count": 18,
   "metadata": {},
   "outputs": [],
   "source": [
    "start = [-1.6055961453458505, 1.2177152063074654, 1.2116691324250535, -1.7072048998181064, -0.6481964392335137, 1.7371698235121535, \n",
    "         -1.0210010166146453]\n",
    "\n",
    "for i, joint_ind in enumerate(env.joints):\n",
    "    env.client_id.resetJointState(env.manipulator, joint_ind, start[i])\n"
   ]
  },
  {
   "cell_type": "code",
   "execution_count": 4,
   "metadata": {},
   "outputs": [],
   "source": [
    "joint_config = np.array([-0.7856447,  0.7866443,  2.689896 , -1.9357901, -0.3345264,\n",
    "        1.2200228, -2.0265737])\n",
    "for i, joint_ind in enumerate(env.joints):\n",
    "    env.client_id.resetJointState(env.manipulator, joint_ind, joint_config[i])"
   ]
  },
  {
   "cell_type": "code",
   "execution_count": 6,
   "metadata": {},
   "outputs": [
    {
     "name": "stdout",
     "output_type": "stream",
     "text": [
      "numActiveThreads = 0\n",
      "stopping threads\n",
      "Thread with taskId 0 exiting\n",
      "Thread TERMINATED\n",
      "destroy semaphore\n",
      "semaphore destroyed\n",
      "destroy main semaphore\n",
      "main semaphore destroyed\n",
      "finished\n",
      "numActiveThreads = 0\n",
      "btShutDownExampleBrowser stopping threads\n",
      "Thread with taskId 0 exiting\n",
      "Thread TERMINATED\n",
      "destroy semaphore\n",
      "semaphore destroyed\n",
      "destroy main semaphore\n",
      "main semaphore destroyed\n"
     ]
    }
   ],
   "source": [
    "env.client_id.disconnect()"
   ]
  }
 ],
 "metadata": {
  "kernelspec": {
   "display_name": "base",
   "language": "python",
   "name": "python3"
  },
  "language_info": {
   "codemirror_mode": {
    "name": "ipython",
    "version": 3
   },
   "file_extension": ".py",
   "mimetype": "text/x-python",
   "name": "python",
   "nbconvert_exporter": "python",
   "pygments_lexer": "ipython3",
   "version": "3.10.10"
  },
  "orig_nbformat": 4
 },
 "nbformat": 4,
 "nbformat_minor": 2
}
