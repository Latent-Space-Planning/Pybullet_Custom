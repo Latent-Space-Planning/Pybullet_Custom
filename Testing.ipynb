{
 "cells": [
  {
   "cell_type": "code",
   "execution_count": 1,
   "metadata": {},
   "outputs": [
    {
     "name": "stderr",
     "output_type": "stream",
     "text": [
      "pybullet build time: Jul 17 2023 13:38:55\n"
     ]
    }
   ],
   "source": [
    "from pybullet_environment import *\n",
    "import numpy as np\n",
    "import cvxpy as cp"
   ]
  },
  {
   "cell_type": "code",
   "execution_count": 20,
   "metadata": {},
   "outputs": [
    {
     "name": "stdout",
     "output_type": "stream",
     "text": [
      "argv[0]=\n",
      "startThreads creating 1 threads.\n",
      "starting thread 0\n",
      "started thread 0 \n",
      "argc=3\n",
      "argv[0] = --unused\n",
      "argv[1] = \n",
      "argv[2] = --start_demo_name=Physics Server\n",
      "ExampleBrowserThreadFunc started\n",
      "X11 functions dynamically loaded using dlopen/dlsym OK!\n",
      "X11 functions dynamically loaded using dlopen/dlsym OK!\n",
      "Creating context\n",
      "Created GL 3.3 context\n",
      "Direct GLX rendering context obtained\n",
      "Making context current\n",
      "GL_VENDOR=NVIDIA Corporation\n",
      "GL_RENDERER=NVIDIA GeForce GTX 1660 Ti/PCIe/SSE2\n",
      "GL_VERSION=3.3.0 NVIDIA 525.116.04\n",
      "GL_SHADING_LANGUAGE_VERSION=3.30 NVIDIA via Cg compiler\n",
      "pthread_getconcurrency()=0\n",
      "Version = 3.3.0 NVIDIA 525.116.04\n",
      "Vendor = NVIDIA Corporation\n",
      "Renderer = NVIDIA GeForce GTX 1660 Ti/PCIe/SSE2\n",
      "b3Printf: Selected demo: Physics Server\n",
      "startThreads creating 1 threads.\n",
      "starting thread 0\n",
      "started thread 0 \n",
      "MotionThreadFunc thread started\n"
     ]
    }
   ],
   "source": [
    "env = RobotEnvironment()"
   ]
  },
  {
   "cell_type": "markdown",
   "metadata": {},
   "source": [
    "## Start Joint Configuration:"
   ]
  },
  {
   "cell_type": "markdown",
   "metadata": {},
   "source": [
    "#### From End-effector pose"
   ]
  },
  {
   "cell_type": "code",
   "execution_count": 21,
   "metadata": {},
   "outputs": [
    {
     "name": "stdout",
     "output_type": "stream",
     "text": [
      "(0.5295944018839492, 1.7078429357776748, -0.030811500746328113, 0.5722936008432751, 0.032876890574846454, 1.1134821847667495, -0.23722034050664934, 0.0, 0.0)\n"
     ]
    },
    {
     "ename": "",
     "evalue": "",
     "output_type": "error",
     "traceback": [
      "\u001b[1;31mThe Kernel crashed while executing code in the the current cell or a previous cell. Please review the code in the cell(s) to identify a possible cause of the failure. Click <a href='https://aka.ms/vscodeJupyterKernelCrash'>here</a> for more info. View Jupyter <a href='command:jupyter.viewOutput'>log</a> for further details."
     ]
    }
   ],
   "source": [
    "start = np.array([0.5,  0.3,  0.2])\n",
    "start_orientation = np.array([3.14, 0, 1.57])\n",
    "\n",
    "joint_config = env.inverse_kinematics(start, start_orientation)\n",
    "print(joint_config)\n",
    "\n",
    "for i, joint_ind in enumerate(env.joints):\n",
    "    env.client_id.resetJointState(env.manipulator, joint_ind, joint_config[i])"
   ]
  },
  {
   "cell_type": "markdown",
   "metadata": {},
   "source": [
    "#### From Joint angles"
   ]
  },
  {
   "cell_type": "code",
   "execution_count": 3,
   "metadata": {},
   "outputs": [],
   "source": [
    "joint_config = np.array([-1.9300085,  1.3141115,  2.1577177, -1.5229155, -0.7427585, 1.4192199, -1.3984755])\n",
    "\n",
    "for i, joint_ind in enumerate(env.joints):\n",
    "    env.client_id.resetJointState(env.manipulator, joint_ind, joint_config[i])"
   ]
  },
  {
   "cell_type": "markdown",
   "metadata": {},
   "source": [
    "## End Joint Configuration:"
   ]
  },
  {
   "cell_type": "markdown",
   "metadata": {},
   "source": [
    "#### From End-effector pose"
   ]
  },
  {
   "cell_type": "code",
   "execution_count": 5,
   "metadata": {},
   "outputs": [
    {
     "name": "stdout",
     "output_type": "stream",
     "text": [
      "(0.2916356471941378, -0.19476593195471914, -0.2515576632025949, -2.0901947227739055, -0.05264943377223378, 1.9009807816043083, 0.8471365555475125, 0.0, 0.0)\n"
     ]
    }
   ],
   "source": [
    "goal = np.array([0.5,  0.01,  0.4])\n",
    "goal_orientation = np.array([3.14, 0, 0])\n",
    "\n",
    "joint_config = env.inverse_kinematics(goal, goal_orientation)\n",
    "print(joint_config)\n",
    "\n",
    "for i, joint_ind in enumerate(env.joints):\n",
    "    env.client_id.resetJointState(env.manipulator, joint_ind, joint_config[i])"
   ]
  },
  {
   "cell_type": "markdown",
   "metadata": {},
   "source": [
    "#### From Joint angles"
   ]
  },
  {
   "cell_type": "code",
   "execution_count": 5,
   "metadata": {},
   "outputs": [],
   "source": [
    "joint_config = np.zeros((9,))\n",
    "\n",
    "for i, joint_ind in enumerate(env.joints):\n",
    "    env.client_id.resetJointState(env.manipulator, joint_ind, joint_config[i])"
   ]
  },
  {
   "cell_type": "markdown",
   "metadata": {},
   "source": [
    "# -------------------------------------------------------------------------------"
   ]
  },
  {
   "cell_type": "code",
   "execution_count": 15,
   "metadata": {},
   "outputs": [],
   "source": [
    "lower_limit = np.array([-2.8973000049591064, -1.7627999782562256, -2.8973000049591064, -3.0717999935150146, -2.8973000049591064, -0.017500000074505806, -2.8973000049591064])\n",
    "\n",
    "joint_config = np.zeros((9,))\n",
    "n = 1\n",
    "joint_config[n] = lower_limit[n]\n",
    "#joint_config = np.array([0.7, -0.2, 0.3, -1.8, 0., 2.1, 1.57, 0., 0.])\n",
    "\n",
    "for i, joint_ind in enumerate(env.joints):\n",
    "    env.client_id.resetJointState(env.manipulator, joint_ind, joint_config[i])"
   ]
  },
  {
   "cell_type": "code",
   "execution_count": 16,
   "metadata": {},
   "outputs": [],
   "source": [
    "upper_limit = np.array([2.8973000049591064, 1.7627999782562256, 2.8973000049591064, -0.0697999969124794, 2.8973000049591064, 3.752500057220459, 2.8973000049591064])\n",
    "joint_config = np.zeros((9,))\n",
    "n = 1\n",
    "joint_config[n] = upper_limit[n]\n",
    "#joint_config = np.array([0.7, -0.2, 0.3, -1.8, 0., 2.1, 1.57, 0., 0.])\n",
    "\n",
    "for i, joint_ind in enumerate(env.joints):\n",
    "    env.client_id.resetJointState(env.manipulator, joint_ind, joint_config[i])"
   ]
  },
  {
   "cell_type": "code",
   "execution_count": 4,
   "metadata": {},
   "outputs": [],
   "source": [
    "joint_config = np.array([-0.7856447,  0.7866443,  2.689896 , -1.9357901, -0.3345264,\n",
    "        1.2200228, -2.0265737])\n",
    "for i, joint_ind in enumerate(env.joints):\n",
    "    env.client_id.resetJointState(env.manipulator, joint_ind, joint_config[i])"
   ]
  },
  {
   "cell_type": "code",
   "execution_count": 5,
   "metadata": {},
   "outputs": [
    {
     "name": "stdout",
     "output_type": "stream",
     "text": [
      "(((0.0, 0.0, 0.0, 0.0, 0.0, 0.0, 0.0, 0.0, 0.0), (0.0, 0.0, 0.0, 0.0, 0.0, 0.0, 0.0, 0.0, 0.0), (0.0, 0.0, 0.0, 0.0, 0.0, 0.0, 0.0, 0.0, 0.0)), ((0.0, 0.0, 0.0, 0.0, 0.0, 0.0, 0.0, 0.0, 0.0), (0.0, 1.0, 0.0, 0.0, 0.0, 0.0, 0.0, 0.0, 0.0), (1.0, 4.896638650109253e-12, 0.0, 0.0, 0.0, 0.0, 0.0, 0.0, 0.0)))\n"
     ]
    }
   ],
   "source": [
    "a = p.calculateJacobian(env.manipulator, 1, [0, 0, 0], np.zeros((9,)).tolist(), np.zeros((9,)).tolist(), np.zeros((9,)).tolist())\n",
    "np.array(a).shape\n",
    "print(a)"
   ]
  },
  {
   "cell_type": "code",
   "execution_count": 5,
   "metadata": {},
   "outputs": [
    {
     "name": "stdout",
     "output_type": "stream",
     "text": [
      "numActiveThreads = 0\n",
      "stopping threads\n",
      "Thread with taskId 0 exiting\n",
      "Thread TERMINATED\n",
      "destroy semaphore\n",
      "semaphore destroyed\n",
      "destroy main semaphore\n",
      "main semaphore destroyed\n",
      "finished\n",
      "numActiveThreads = 0\n",
      "btShutDownExampleBrowser stopping threads\n",
      "Thread with taskId 0 exiting\n",
      "Thread TERMINATED\n",
      "destroy semaphore\n",
      "semaphore destroyed\n",
      "destroy main semaphore\n",
      "main semaphore destroyed\n"
     ]
    }
   ],
   "source": [
    "p.disconnect()"
   ]
  },
  {
   "cell_type": "code",
   "execution_count": 4,
   "metadata": {},
   "outputs": [
    {
     "name": "stdout",
     "output_type": "stream",
     "text": [
      "[0. 0. 0. 0. 0. 0. 0.]\n"
     ]
    }
   ],
   "source": [
    "print(env.get_joint_velocities())"
   ]
  },
  {
   "cell_type": "code",
   "execution_count": 11,
   "metadata": {},
   "outputs": [],
   "source": [
    "_, _ = env.move_joints(np.zeros((7,)))"
   ]
  },
  {
   "cell_type": "code",
   "execution_count": 26,
   "metadata": {},
   "outputs": [
    {
     "ename": "",
     "evalue": "",
     "output_type": "error",
     "traceback": [
      "\u001b[1;31mThe Kernel crashed while executing code in the the current cell or a previous cell. Please review the code in the cell(s) to identify a possible cause of the failure. Click <a href='https://aka.ms/vscodeJupyterKernelCrash'>here</a> for more info. View Jupyter <a href='command:jupyter.viewOutput'>log</a> for further details."
     ]
    }
   ],
   "source": [
    "_, _ = env.move_joints([1, 0.5, 0.7, -0.5, 1, 1, 1])"
   ]
  },
  {
   "cell_type": "code",
   "execution_count": null,
   "metadata": {},
   "outputs": [],
   "source": [
    "joint_config = np.array([-1.9300085,  1.3141115,  2.1577177, -1.5229155, -0.7427585, 1.4192199, -1.3984755])\n",
    "\n",
    "for i, joint_ind in enumerate(env.joints):\n",
    "    env.client_id.resetJointState(env.manipulator, joint_ind, joint_config[i])"
   ]
  },
  {
   "cell_type": "code",
   "execution_count": null,
   "metadata": {},
   "outputs": [
    {
     "data": {
      "text/plain": [
       "((0.41517849174779053, -0.37502881028017254, 0.5576215683161793),\n",
       " (0.45227439950028625,\n",
       "  0.8300439147763229,\n",
       "  0.3097416480331348,\n",
       "  0.1026405308499977),\n",
       " (0.0, 0.0, 0.0),\n",
       " (0.0, 0.0, 0.0, 1.0),\n",
       " (0.41517847776412964, -0.3750288188457489, 0.5576215386390686),\n",
       " (0.4522744119167328,\n",
       "  0.8300439715385437,\n",
       "  0.30974164605140686,\n",
       "  0.1026405468583107))"
      ]
     },
     "metadata": {},
     "output_type": "display_data"
    }
   ],
   "source": [
    "env.client_id.getLinkState(env.manipulator, 11, computeForwardKinematics = 1)"
   ]
  },
  {
   "cell_type": "code",
   "execution_count": null,
   "metadata": {},
   "outputs": [
    {
     "data": {
      "text/plain": [
       "((0.0, 0.0, 0.05), (0.0, 0.0, 0.0, 1.0))"
      ]
     },
     "metadata": {},
     "output_type": "display_data"
    }
   ],
   "source": [
    "env.client_id.getBasePositionAndOrientation(env.manipulator)"
   ]
  },
  {
   "cell_type": "code",
   "execution_count": null,
   "metadata": {},
   "outputs": [
    {
     "name": "stdout",
     "output_type": "stream",
     "text": [
      "[-1.9300085, 1.3141115, 2.1577177, -1.5229155, -0.7427585, 1.4192199, -1.3984755, 0, 0]\n"
     ]
    }
   ],
   "source": [
    "current_joints = [*env.get_joint_positions(), 0, 0]\n",
    "print(current_joints)"
   ]
  },
  {
   "cell_type": "code",
   "execution_count": null,
   "metadata": {},
   "outputs": [
    {
     "name": "stdout",
     "output_type": "stream",
     "text": [
      "[[-0.56982558  0.68723113  0.45056873  0.41517849]\n",
      " [ 0.81439932  0.39901596  0.42135497 -0.37502881]\n",
      " [ 0.10978414  0.60704171 -0.78705007  0.55762157]\n",
      " [ 0.          0.          0.          1.        ]]\n"
     ]
    }
   ],
   "source": [
    "bullet_fk = env.get_end_effector_transformation()\n",
    "print(bullet_fk)"
   ]
  },
  {
   "cell_type": "code",
   "execution_count": null,
   "metadata": {},
   "outputs": [
    {
     "name": "stdout",
     "output_type": "stream",
     "text": [
      "[[-0.56982558  0.68723113  0.45056873  0.41445758]\n",
      " [ 0.81439932  0.39901596  0.42135497 -0.37570298]\n",
      " [ 0.10978414  0.60704171 -0.78705007  0.55888085]\n",
      " [ 0.          0.          0.          1.        ]]\n"
     ]
    },
    {
     "name": "stdout",
     "output_type": "stream",
     "text": [
      "numActiveThreads = 0\n",
      "stopping threads\n",
      "Thread with taskId 0 exiting\n",
      "Thread TERMINATED\n",
      "destroy semaphore\n",
      "semaphore destroyed\n",
      "destroy main semaphore\n",
      "main semaphore destroyed\n",
      "finished\n"
     ]
    }
   ],
   "source": [
    "fk = env.get_ee_tf_mat(current_joints)\n",
    "print(fk)"
   ]
  },
  {
   "cell_type": "code",
   "execution_count": null,
   "metadata": {},
   "outputs": [
    {
     "name": "stdout",
     "output_type": "stream",
     "text": [
      "[0.0, 0.0, 0.0]\n"
     ]
    }
   ],
   "source": [
    "link_index = 11\n",
    "com = env.client_id.getLinkState(env.manipulator, link_index, computeForwardKinematics=1)[2]\n",
    "print(list(com))\n",
    "theta = cp.Variable(9)\n",
    "\n",
    "J_t, J_r = env.client_id.calculateJacobian(env.manipulator, \n",
    "                                link_index, \n",
    "                                list(com), \n",
    "                                current_joints, \n",
    "                                np.zeros_like(current_joints).tolist(), \n",
    "                                np.zeros_like(current_joints).tolist())\n",
    "\n",
    "bullet_J = np.concatenate([np.array(J_t), np.array(J_r)], axis = 0)"
   ]
  },
  {
   "cell_type": "code",
   "execution_count": null,
   "metadata": {},
   "outputs": [],
   "source": [
    "J = env.get_jacobian(current_joints)\n",
    "#print(J - bullet_J[:, :-2])\n",
    "#print(J, \"\\n\\n\", bullet_J[:, :-2])"
   ]
  }
 ],
 "metadata": {
  "kernelspec": {
   "display_name": "base",
   "language": "python",
   "name": "python3"
  },
  "language_info": {
   "codemirror_mode": {
    "name": "ipython",
    "version": 3
   },
   "file_extension": ".py",
   "mimetype": "text/x-python",
   "name": "python",
   "nbconvert_exporter": "python",
   "pygments_lexer": "ipython3",
   "version": "3.10.10"
  },
  "orig_nbformat": 4
 },
 "nbformat": 4,
 "nbformat_minor": 2
}
