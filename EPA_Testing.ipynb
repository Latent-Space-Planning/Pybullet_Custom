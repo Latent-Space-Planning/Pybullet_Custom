{
 "cells": [
  {
   "cell_type": "code",
   "execution_count": 73,
   "metadata": {},
   "outputs": [],
   "source": [
    "import numpy as np\n",
    "from pybullet_environment import *"
   ]
  },
  {
   "cell_type": "code",
   "execution_count": 72,
   "metadata": {},
   "outputs": [
    {
     "name": "stdout",
     "output_type": "stream",
     "text": [
      "argv[0]=\n",
      "startThreads creating 1 threads.\n",
      "starting thread 0\n",
      "started thread 0 \n",
      "argc=3\n",
      "argv[0] = --unused\n",
      "argv[1] = \n",
      "argv[2] = --start_demo_name=Physics Server\n",
      "ExampleBrowserThreadFunc started\n",
      "X11 functions dynamically loaded using dlopen/dlsym OK!\n",
      "X11 functions dynamically loaded using dlopen/dlsym OK!\n",
      "Creating context\n",
      "Created GL 3.3 context\n",
      "Direct GLX rendering context obtained\n",
      "Making context current\n",
      "GL_VENDOR=NVIDIA Corporation\n",
      "GL_RENDERER=NVIDIA GeForce GTX 1660 Ti/PCIe/SSE2\n",
      "GL_VERSION=3.3.0 NVIDIA 535.86.05\n",
      "GL_SHADING_LANGUAGE_VERSION=3.30 NVIDIA via Cg compiler\n",
      "pthread_getconcurrency()=0\n",
      "Version = 3.3.0 NVIDIA 535.86.05\n",
      "Vendor = NVIDIA Corporation\n",
      "Renderer = NVIDIA GeForce GTX 1660 Ti/PCIe/SSE2\n",
      "b3Printf: Selected demo: Physics Server\n",
      "startThreads creating 1 threads.\n",
      "starting thread 0\n",
      "started thread 0 \n",
      "MotionThreadFunc thread started\n"
     ]
    }
   ],
   "source": [
    "env = RobotEnvironment(manipulator = False)"
   ]
  },
  {
   "cell_type": "code",
   "execution_count": 4,
   "metadata": {},
   "outputs": [],
   "source": [
    "def euler_to_rotation_matrix(yaw, pitch, roll):\n",
    "        \n",
    "    Rz = np.array([[np.cos(yaw), -np.sin(yaw), 0],\n",
    "                [np.sin(yaw), np.cos(yaw), 0],\n",
    "                [0, 0, 1]])\n",
    "\n",
    "    Ry = np.array([[np.cos(pitch), 0, np.sin(pitch)],\n",
    "                [0, 1, 0],\n",
    "                [-np.sin(pitch), 0, np.cos(pitch)]])\n",
    "\n",
    "    Rx = np.array([[1, 0, 0],\n",
    "                [0, np.cos(roll), -np.sin(roll)],\n",
    "                [0, np.sin(roll), np.cos(roll)]])\n",
    "\n",
    "    R = Rz @ (Ry @ Rx)\n",
    "    \n",
    "    return R"
   ]
  },
  {
   "cell_type": "code",
   "execution_count": 5,
   "metadata": {},
   "outputs": [],
   "source": [
    "def define_vertices(pos, ori, dims):\n",
    "\n",
    "    l, b, h = dims[0], dims[1], dims[2]\n",
    "\n",
    "    local_vertices = np.array([[-l/2, -b/2, -h/2, 1],\n",
    "                                [ l/2, -b/2, -h/2, 1],\n",
    "                                [ l/2,  b/2, -h/2, 1],\n",
    "                                [-l/2,  b/2, -h/2, 1],\n",
    "                                [-l/2, -b/2,  h/2, 1],\n",
    "                                [ l/2, -b/2,  h/2, 1],\n",
    "                                [ l/2,  b/2,  h/2, 1],\n",
    "                                [-l/2,  b/2,  h/2, 1]])\n",
    "    \n",
    "    rot = euler_to_rotation_matrix(ori[0], ori[1], ori[2])\n",
    "\n",
    "    T = np.eye(4)\n",
    "    T[:3, :3] = rot\n",
    "    T[:3, 3] = pos[:]\n",
    "\n",
    "    global_vertices = (T @ (local_vertices.T)).T\n",
    "\n",
    "    return global_vertices[:, :-1]  "
   ]
  },
  {
   "cell_type": "code",
   "execution_count": 33,
   "metadata": {},
   "outputs": [],
   "source": [
    "def find_furthest_vertex(direction, vertices):\n",
    "\n",
    "    local_vertices = vertices - (np.mean(vertices, axis = 0)[np.newaxis, :])\n",
    "\n",
    "    dot_product = (local_vertices @ direction)[:, 0]\n",
    "    \n",
    "    furthest_vertex = vertices[np.argmax(dot_product)]\n",
    "\n",
    "    return furthest_vertex\n",
    "\n",
    "def support_mapping(direction, X, Y):\n",
    "\n",
    "    return find_furthest_vertex(direction, X) - find_furthest_vertex(-direction, Y)\n",
    "        "
   ]
  },
  {
   "cell_type": "code",
   "execution_count": 40,
   "metadata": {},
   "outputs": [],
   "source": [
    "def unit_vector(v):\n",
    "\n",
    "    norm = np.linalg.norm(v)\n",
    "    return v / norm"
   ]
  },
  {
   "cell_type": "code",
   "execution_count": 69,
   "metadata": {},
   "outputs": [],
   "source": [
    "def update_simplex(simplex, X, Y):\n",
    "\n",
    "    # Return 0 means that he origin lies on either a vertex, an edge, or a face\n",
    "\n",
    "    if len(simplex) == 0:\n",
    "        direction = np.array([[1., 0., 0.]]).T\n",
    "        next_point = support_mapping(direction, X, Y)\n",
    "        simplex.append(next_point)\n",
    "        return update_simplex(simplex, X, Y)\n",
    "    \n",
    "    elif len(simplex) == 1:\n",
    "        A = simplex[0]\n",
    "        direction = -A\n",
    "        if np.linalg.norm(direction) == 0:\n",
    "            return 0\n",
    "        next_point = support_mapping(unit_vector(direction), X, Y)\n",
    "        if np.dot(next_point, direction) < 0:\n",
    "            return False\n",
    "        simplex.append(next_point)\n",
    "        return update_simplex(simplex, X, Y)\n",
    "\n",
    "    elif len(simplex) == 2:\n",
    "        A, B = simplex[0], simplex[1]\n",
    "        BA = A - B\n",
    "        direction = np.cross(np.cross(BA, B), BA)\n",
    "        if np.linalg.norm(direction) == 0:\n",
    "            return 0\n",
    "        next_point = support_mapping(unit_vector(direction), X, Y)\n",
    "        if np.dot(next_point, direction) < 0:\n",
    "            return False\n",
    "        simplex.append(next_point)\n",
    "        return update_simplex(simplex, X, Y)\n",
    "\n",
    "    elif len(simplex) == 3:\n",
    "        A, B, C = simplex[0], simplex[1], simplex[2]\n",
    "        BA = A - B\n",
    "        CA = A - C\n",
    "        direction = np.cross(CA, BA)\n",
    "        if np.dot(direction, C) > 0:\n",
    "            direction = -direction\n",
    "        if np.linalg.norm(direction) == 0:\n",
    "            return 0\n",
    "        next_point = support_mapping(unit_vector(direction), X, Y)\n",
    "        if np.dot(next_point, direction) < 0:\n",
    "            return False\n",
    "        simplex.append(next_point)\n",
    "        return update_simplex(simplex, X, Y)\n",
    "\n",
    "    elif len(simplex) == 4:\n",
    "        \n",
    "        A, B, C, D = simplex[0], simplex[1], simplex[2], simplex[3]\n",
    "        \n",
    "        DA = D - A\n",
    "        DB = D - B\n",
    "        DC = D - C\n",
    "        centroid = (A + B + C + D)/4\n",
    "        to_centroid = centroid - D\n",
    "        faces = [(DA, DB), (DB, DC), (DC, DA)]\n",
    "\n",
    "        direction = None\n",
    "\n",
    "        for face in faces:\n",
    "            normal = np.cross(face[0], face[1])\n",
    "            if np.dot(normal, to_centroid) > 0:\n",
    "                normal = -normal\n",
    "            if np.dot(normal, D) < 0:\n",
    "                direction = normal.copy()\n",
    "\n",
    "        if type(direction) == type(None):\n",
    "            return True\n",
    "        \n",
    "        simplex.pop(0)\n",
    "        next_point = support_mapping(unit_vector(direction), X, Y)\n",
    "        if np.dot(next_point, direction) < 0:\n",
    "            return False\n",
    "        simplex.append(next_point)\n",
    "        return update_simplex(simplex, X, Y)"
   ]
  },
  {
   "cell_type": "code",
   "execution_count": 80,
   "metadata": {},
   "outputs": [
    {
     "name": "stdout",
     "output_type": "stream",
     "text": [
      "True\n"
     ]
    }
   ],
   "source": [
    "env.client_id.removeBody(A_id)\n",
    "env.client_id.removeBody(B_id)\n",
    "\n",
    "X_pos = np.array([0.2, 0.1, 0.5])\n",
    "X_ori = np.array([0., 0., 0.])\n",
    "X_size = np.array([0.5, 0.3, 0.2])\n",
    "\n",
    "Y_pos = np.array([0.56, 0.11, 0.51])\n",
    "Y_ori = np.array([0.1, 0.3, -0.4])\n",
    "Y_size = np.array([0.15, 0.3, 0.08])\n",
    "\n",
    "vuid = env.client_id.createVisualShape(p.GEOM_BOX, \n",
    "                                       halfExtents = X_size/2,\n",
    "                                       rgbaColor = np.hstack([env.colors['yellow'], np.array([1.0])]))\n",
    "\n",
    "A_id = env.client_id.createMultiBody(baseVisualShapeIndex = vuid, \n",
    "                                       basePosition = X_pos, \n",
    "                                       baseOrientation = env.client_id.getQuaternionFromEuler(X_ori))\n",
    "\n",
    "vuid = env.client_id.createVisualShape(p.GEOM_BOX, \n",
    "                                       halfExtents = Y_size/2,\n",
    "                                       rgbaColor = np.hstack([env.colors['red'], np.array([1.0])]))\n",
    "\n",
    "B_id = env.client_id.createMultiBody(baseVisualShapeIndex = vuid, \n",
    "                                       basePosition = Y_pos, \n",
    "                                       baseOrientation = env.client_id.getQuaternionFromEuler(Y_ori))\n",
    "\n",
    "# Form the vertices of the shapes:\n",
    "X = define_vertices(X_pos, X_ori, X_size)\n",
    "Y = define_vertices(Y_pos, Y_ori, Y_size)\n",
    "simplex = []\n",
    "\n",
    "out = update_simplex(simplex, X, Y)\n",
    "print(out)"
   ]
  },
  {
   "cell_type": "code",
   "execution_count": 75,
   "metadata": {},
   "outputs": [],
   "source": [
    "env.client_id.removeBody(A_id)\n",
    "env.client_id.removeBody(B_id)"
   ]
  },
  {
   "cell_type": "code",
   "execution_count": 44,
   "metadata": {},
   "outputs": [
    {
     "name": "stderr",
     "output_type": "stream",
     "text": [
      "<>:43: SyntaxWarning: 'tuple' object is not callable; perhaps you missed a comma?\n",
      "<>:43: SyntaxWarning: 'tuple' object is not callable; perhaps you missed a comma?\n",
      "/tmp/ipykernel_6924/821103382.py:43: SyntaxWarning: 'tuple' object is not callable; perhaps you missed a comma?\n",
      "  (DA, DB) (DB, DC) (DC, DA)\n",
      "/tmp/ipykernel_6924/821103382.py:43: SyntaxWarning: 'tuple' object is not callable; perhaps you missed a comma?\n",
      "  (DA, DB) (DB, DC) (DC, DA)\n",
      "/tmp/ipykernel_6924/821103382.py:43: SyntaxWarning: 'tuple' object is not callable; perhaps you missed a comma?\n",
      "  (DA, DB) (DB, DC) (DC, DA)\n",
      "/tmp/ipykernel_6924/821103382.py:43: SyntaxWarning: 'tuple' object is not callable; perhaps you missed a comma?\n",
      "  (DA, DB) (DB, DC) (DC, DA)\n"
     ]
    },
    {
     "ename": "NameError",
     "evalue": "name 'DA' is not defined",
     "output_type": "error",
     "traceback": [
      "\u001b[0;31m---------------------------------------------------------------------------\u001b[0m",
      "\u001b[0;31mNameError\u001b[0m                                 Traceback (most recent call last)",
      "Cell \u001b[0;32mIn[44], line 43\u001b[0m\n\u001b[1;32m     40\u001b[0m contains_origin \u001b[39m=\u001b[39m \u001b[39mFalse\u001b[39;00m\n\u001b[1;32m     41\u001b[0m \u001b[39m# Face 1:\u001b[39;00m\n\u001b[0;32m---> 43\u001b[0m (DA, DB) (DB, DC) (DC, DA)\n",
      "\u001b[0;31mNameError\u001b[0m: name 'DA' is not defined"
     ]
    }
   ],
   "source": [
    "# Form the vertices of the shapes:\n",
    "X = define_vertices(X_pos, X_ori, X_size)\n",
    "Y = define_vertices(Y_pos, Y_ori, Y_size)\n",
    "\n",
    "# Pick a random vertex on the Minkowski Difference:\n",
    "direction = np.array([[1., 0., 0.]]).T\n",
    "A = support_mapping(direction, X, Y)\n",
    "# Remember the support mapping gives us the furthest vertex in a direction from the centroid of the minkowski difference,\n",
    "# in terms of the Original Origin (that is, global coordinates, and NOT local to the Minkowski Difference Shape)\n",
    "\n",
    "# Pick second vertex towards origin:\n",
    "direction = -A\n",
    "if np.linalg.norm(direction) == 0:\n",
    "    print(True)\n",
    "B = support_mapping(unit_vector(direction), X, Y)\n",
    "if np.dot(B, direction) < 0:\n",
    "    print(False)\n",
    "\n",
    "# Pick third vertex towards origin:\n",
    "BA = A - B\n",
    "direction = np.cross(np.cross(BA, B), BA)\n",
    "if np.linalg.norm(direction) == 0:\n",
    "    print(True)\n",
    "C = support_mapping(unit_vector(direction), X, Y)\n",
    "if np.dot(C, direction) < 0:\n",
    "    print(False)\n",
    "\n",
    "# Pick fourth vertex towards origin:\n",
    "CA = A - C\n",
    "direction = np.cross(CA, BA)\n",
    "if np.dot(direction, C) > 0:\n",
    "    direction = -direction\n",
    "if np.linalg.norm(direction) == 0:\n",
    "    print(True)\n",
    "D = support_mapping(unit_vector(direction), X, Y)\n",
    "if np.dot(D, direction) < 0:\n",
    "    print(False)\n",
    "\n",
    "# In the above 3 snippets, if the origin lies on either a vertex, an edge, or a face, the direction will be zero.\n",
    "\n",
    "# Pick next vertex from tetrahedron:\n",
    "\n",
    "contains_origin = False\n",
    "direction = None\n",
    "\n",
    "DA = D - A\n",
    "DB = D - B\n",
    "DC = D - C\n",
    "centroid = (A + B + C + D)/4\n",
    "to_centroid = centroid - D\n",
    "# Face 1:\n",
    "normal = np.cross(DA, DB)\n",
    "if np.dot(normal, to_centroid) > 0:\n",
    "    normal = -normal\n",
    "if np.dot(normal, D) < 0:\n",
    "    direction = normal.copy()\n",
    "# Face 2:\n",
    "normal = np.cross(DB, DC)\n",
    "if np.dot(normal, to_centroid) > 0:\n",
    "    normal = -normal\n",
    "if np.dot(normal, D) < 0:\n",
    "    direction = normal.copy()\n",
    "# Face 3:\n",
    "normal = np.cross(DC, DA)\n",
    "if np.dot(normal, to_centroid) > 0:\n",
    "    normal = -normal\n",
    "if np.dot(normal, D) < 0:\n",
    "    direction = normal.copy()\n",
    "\n",
    "if type(direction) == type(None):\n",
    "    contains_origin = True\n"
   ]
  },
  {
   "cell_type": "code",
   "execution_count": 43,
   "metadata": {},
   "outputs": [
    {
     "data": {
      "text/plain": [
       "array([0, 0, 0])"
      ]
     },
     "execution_count": 43,
     "metadata": {},
     "output_type": "execute_result"
    }
   ],
   "source": [
    "np.cross(np.cross([1, 2, 3], [1, 2, 3]), [1, 2, 3])"
   ]
  },
  {
   "cell_type": "code",
   "execution_count": 32,
   "metadata": {},
   "outputs": [
    {
     "name": "stdout",
     "output_type": "stream",
     "text": [
      "[ 0.33298288 -0.30517837 -0.11155711]\n"
     ]
    }
   ],
   "source": [
    "\n",
    "\n",
    "print(support_mapping([1., -0.1, -0.5], X, Y))"
   ]
  },
  {
   "cell_type": "code",
   "execution_count": 46,
   "metadata": {},
   "outputs": [
    {
     "name": "stdout",
     "output_type": "stream",
     "text": [
      "[2, 3]\n"
     ]
    }
   ],
   "source": [
    "l = [1, 2, 3]\n",
    "l.pop(0)\n",
    "print(l)"
   ]
  }
 ],
 "metadata": {
  "kernelspec": {
   "display_name": "base",
   "language": "python",
   "name": "python3"
  },
  "language_info": {
   "codemirror_mode": {
    "name": "ipython",
    "version": 3
   },
   "file_extension": ".py",
   "mimetype": "text/x-python",
   "name": "python",
   "nbconvert_exporter": "python",
   "pygments_lexer": "ipython3",
   "version": "3.10.10"
  },
  "orig_nbformat": 4
 },
 "nbformat": 4,
 "nbformat_minor": 2
}
