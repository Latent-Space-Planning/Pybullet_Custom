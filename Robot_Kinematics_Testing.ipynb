{
 "cells": [
  {
   "cell_type": "code",
   "execution_count": 1,
   "metadata": {},
   "outputs": [
    {
     "name": "stderr",
     "output_type": "stream",
     "text": [
      "pybullet build time: Jul 17 2023 13:38:55\n"
     ]
    }
   ],
   "source": [
    "from pybullet_environment import *\n",
    "from guide import *"
   ]
  },
  {
   "cell_type": "code",
   "execution_count": 2,
   "metadata": {},
   "outputs": [
    {
     "name": "stdout",
     "output_type": "stream",
     "text": [
      "argv[0]=\n",
      "startThreads creating 1 threads.\n",
      "starting thread 0\n",
      "started thread 0 \n",
      "argc=3\n",
      "argv[0] = --unused\n",
      "argv[1] = \n",
      "argv[2] = --start_demo_name=Physics Server\n",
      "ExampleBrowserThreadFunc started\n",
      "X11 functions dynamically loaded using dlopen/dlsym OK!\n",
      "X11 functions dynamically loaded using dlopen/dlsym OK!\n",
      "Creating context\n",
      "Created GL 3.3 context\n",
      "Direct GLX rendering context obtained\n",
      "Making context current\n",
      "GL_VENDOR=NVIDIA Corporation\n",
      "GL_RENDERER=NVIDIA GeForce GTX 1660 Ti/PCIe/SSE2\n",
      "GL_VERSION=3.3.0 NVIDIA 535.86.05\n",
      "GL_SHADING_LANGUAGE_VERSION=3.30 NVIDIA via Cg compiler\n",
      "pthread_getconcurrency()=0\n",
      "Version = 3.3.0 NVIDIA 535.86.05\n",
      "Vendor = NVIDIA Corporation\n",
      "Renderer = NVIDIA GeForce GTX 1660 Ti/PCIe/SSE2\n",
      "b3Printf: Selected demo: Physics Server\n",
      "startThreads creating 1 threads.\n",
      "starting thread 0\n",
      "started thread 0 \n",
      "MotionThreadFunc thread started\n"
     ]
    },
    {
     "ename": "",
     "evalue": "",
     "output_type": "error",
     "traceback": [
      "\u001b[1;31mThe Kernel crashed while executing code in the the current cell or a previous cell. Please review the code in the cell(s) to identify a possible cause of the failure. Click <a href='https://aka.ms/vscodeJupyterKernelCrash'>here</a> for more info. View Jupyter <a href='command:jupyter.viewOutput'>log</a> for further details."
     ]
    }
   ],
   "source": [
    "env = RobotEnvironment(manipulator = True)\n",
    "guide = IntersectionVolumeGuide(env)"
   ]
  },
  {
   "cell_type": "code",
   "execution_count": 3,
   "metadata": {},
   "outputs": [],
   "source": [
    "env.draw_link_bounding_boxes()"
   ]
  },
  {
   "cell_type": "code",
   "execution_count": 4,
   "metadata": {},
   "outputs": [],
   "source": [
    "env.clear_bounding_boxes()"
   ]
  },
  {
   "cell_type": "code",
   "execution_count": 3,
   "metadata": {},
   "outputs": [],
   "source": [
    "joint_config = np.zeros((9,))[:-2]"
   ]
  },
  {
   "cell_type": "code",
   "execution_count": 24,
   "metadata": {},
   "outputs": [
    {
     "ename": "",
     "evalue": "",
     "output_type": "error",
     "traceback": [
      "\u001b[1;31mThe Kernel crashed while executing code in the the current cell or a previous cell. Please review the code in the cell(s) to identify a possible cause of the failure. Click <a href='https://aka.ms/vscodeJupyterKernelCrash'>here</a> for more info. View Jupyter <a href='command:jupyter.viewOutput'>log</a> for further details."
     ]
    }
   ],
   "source": [
    "B_pos = np.array([0.21, 0.11, 0.51])\n",
    "B_ori = np.array([0.1, 0.3, -0.4])\n",
    "B_quat = np.array(env.client_id.getQuaternionFromEuler(B_ori))\n",
    "B_pose = np.array([*B_pos, *B_quat])\n",
    "\n",
    "B_size = np.array([0.15, 0.3, 0.08])"
   ]
  },
  {
   "cell_type": "code",
   "execution_count": 23,
   "metadata": {},
   "outputs": [
    {
     "name": "stdout",
     "output_type": "stream",
     "text": [
      "tensor([[-0.5698,  0.6872,  0.4506,  0.4154],\n",
      "        [ 0.8144,  0.3990,  0.4214, -0.3780],\n",
      "        [ 0.1098,  0.6070, -0.7871,  0.5810],\n",
      "        [ 0.0000,  0.0000,  0.0000,  1.0000]], grad_fn=<MmBackward0>)\n",
      "True\n",
      "tensor([-0.2734,  1.2932,  0.2932,  1.4777,  1.1878,  1.3793,  1.3343],\n",
      "       dtype=torch.float64)\n"
     ]
    },
    {
     "name": "stderr",
     "output_type": "stream",
     "text": [
      "/tmp/ipykernel_17086/872007494.py:2: UserWarning: To copy construct from a tensor, it is recommended to use sourceTensor.clone().detach() or sourceTensor.clone().detach().requires_grad_(True), rather than torch.tensor(sourceTensor).\n",
      "  joint_config = torch.tensor(joint_config)\n"
     ]
    }
   ],
   "source": [
    "link_id = 8\n",
    "joint_config = torch.tensor(joint_config)\n",
    "joint_config.requires_grad = True\n",
    "\n",
    "link_dims = guide.link_dimensions[link_id]\n",
    "link_transform = guide.get_link_transform(link_id, joint_config)\n",
    "\n",
    "print(link_transform)\n",
    "print(link_transform.requires_grad)\n",
    "\n",
    "cost = torch.sum(link_transform)\n",
    "cost.backward()\n",
    "\n",
    "print(joint_config.grad)\n",
    "\n",
    "# link_quat = env.rotation_matrix_to_quaternion(link_transform[:3, :3])\n",
    "# link_pos = link_transform[:3, -1]\n",
    "\n",
    "# vuid = env.client_id.createVisualShape(p.GEOM_BOX, \n",
    "#                                        halfExtents = link_dims/2,\n",
    "#                                        rgbaColor = np.hstack([env.colors['red'], np.array([1.0])]))\n",
    "\n",
    "# link_id = env.client_id.createMultiBody(baseVisualShapeIndex = vuid, \n",
    "#                                        basePosition = link_pos, \n",
    "#                                        baseOrientation = link_quat)\n",
    "\n",
    "# print(np.array(env.client_id.getMatrixFromQuaternion(link_quat)).reshape((3, 3)))\n",
    "# print(link_transform[:3, :3])"
   ]
  },
  {
   "cell_type": "code",
   "execution_count": null,
   "metadata": {},
   "outputs": [],
   "source": [
    "for i in range(10, 1, -1):\n",
    "    env.client_id.removeBody(i)"
   ]
  },
  {
   "cell_type": "code",
   "execution_count": 6,
   "metadata": {},
   "outputs": [
    {
     "name": "stdout",
     "output_type": "stream",
     "text": [
      "[[ 1.00000000e+00  0.00000000e+00  0.00000000e+00 -8.42500000e-05]\n",
      " [ 0.00000000e+00  1.00000000e+00 -4.37113883e-08 -6.93950016e-02]\n",
      " [ 0.00000000e+00  4.37113883e-08  1.00000000e+00  3.71961970e-02]\n",
      " [ 0.00000000e+00  0.00000000e+00  0.00000000e+00  1.00000000e+00]]\n"
     ]
    }
   ],
   "source": [
    "# Joint 1 => Link 0\n",
    "link_id = 1\n",
    "joint_id = 2\n",
    "\n",
    "link_transform = env.pose_to_transformation(env.link_poses[link_id])\n",
    "fk = (guide.forward_kinematics(joint_id, torch.tensor(joint_config))).numpy()\n",
    "fk_inv = env.inverse_of_transform(fk)\n",
    "\n",
    "# print(link_transform)\n",
    "\n",
    "x = fk_inv @ link_transform\n",
    "print(x)\n",
    "# print(link_transform)\n",
    "# print(fk @ x)"
   ]
  },
  {
   "cell_type": "code",
   "execution_count": 7,
   "metadata": {},
   "outputs": [
    {
     "name": "stdout",
     "output_type": "stream",
     "text": [
      "[[ 1.00000000e+00  0.00000000e+00  0.00000000e+00 -8.42500000e-05]\n",
      " [ 0.00000000e+00  1.00000000e+00 -4.37113883e-08 -6.93950016e-02]\n",
      " [ 0.00000000e+00  4.37113883e-08  1.00000000e+00  3.71961970e-02]\n",
      " [ 0.00000000e+00  0.00000000e+00  0.00000000e+00  1.00000000e+00]]\n"
     ]
    }
   ],
   "source": [
    "x_prev = x.copy()\n",
    "print(x_prev)"
   ]
  },
  {
   "cell_type": "code",
   "execution_count": 8,
   "metadata": {},
   "outputs": [
    {
     "name": "stdout",
     "output_type": "stream",
     "text": [
      "tensor([[ 1.0000e+00,  0.0000e+00,  0.0000e+00, -8.4250e-05],\n",
      "        [ 0.0000e+00, -4.3711e-08,  1.0000e+00,  3.7196e-02],\n",
      "        [ 0.0000e+00, -1.0000e+00, -4.3711e-08,  4.0240e-01],\n",
      "        [ 0.0000e+00,  0.0000e+00,  0.0000e+00,  1.0000e+00]])\n",
      "[[ 1.00000000e+00 -0.00000000e+00  0.00000000e+00 -8.42500000e-05]\n",
      " [ 0.00000000e+00  0.00000000e+00  1.00000000e+00  3.71962000e-02]\n",
      " [-0.00000000e+00 -1.00000000e+00  0.00000000e+00  4.02395004e-01]\n",
      " [ 0.00000000e+00  0.00000000e+00  0.00000000e+00  1.00000000e+00]]\n"
     ]
    },
    {
     "name": "stderr",
     "output_type": "stream",
     "text": [
      "X connection to :1 broken (explicit kill or server shutdown).\n"
     ]
    },
    {
     "ename": "",
     "evalue": "",
     "output_type": "error",
     "traceback": [
      "\u001b[1;31mThe Kernel crashed while executing code in the the current cell or a previous cell. Please review the code in the cell(s) to identify a possible cause of the failure. Click <a href='https://aka.ms/vscodeJupyterKernelCrash'>here</a> for more info. View Jupyter <a href='command:jupyter.viewOutput'>log</a> for further details."
     ]
    }
   ],
   "source": [
    "t = guide.get_link_transform(1, torch.tensor(joint_config))\n",
    "print(t)\n",
    "print(link_transform)"
   ]
  },
  {
   "cell_type": "code",
   "execution_count": 104,
   "metadata": {},
   "outputs": [],
   "source": [
    "joint_frame_id = env.draw_frame(fk)"
   ]
  },
  {
   "cell_type": "code",
   "execution_count": 105,
   "metadata": {},
   "outputs": [],
   "source": [
    "link_frame_id = env.draw_frame(link_transform)"
   ]
  },
  {
   "cell_type": "code",
   "execution_count": 59,
   "metadata": {},
   "outputs": [],
   "source": [
    "env.remove_frame(joint_frame_id)\n",
    "env.remove_frame(link_frame_id)"
   ]
  },
  {
   "cell_type": "code",
   "execution_count": 112,
   "metadata": {},
   "outputs": [],
   "source": [
    "env.client_id.removeAllUserDebugItems()"
   ]
  },
  {
   "cell_type": "code",
   "execution_count": 21,
   "metadata": {},
   "outputs": [],
   "source": [
    "joint_config = np.array([-1.9300085,  1.3141115,  2.1577177, -1.5229155, -0.7427585, 1.4192199, -1.3984755])\n",
    "\n",
    "for i, joint_ind in enumerate(env.joints):\n",
    "    env.client_id.resetJointState(env.manipulator, joint_ind, joint_config[i])"
   ]
  },
  {
   "cell_type": "code",
   "execution_count": 28,
   "metadata": {},
   "outputs": [],
   "source": [
    "joint_config = np.zeros((9,))[:-2]\n",
    "joint_config[0] = np.pi/4\n",
    "\n",
    "for i, joint_ind in enumerate(env.joints):\n",
    "    env.client_id.resetJointState(env.manipulator, joint_ind, joint_config[i])"
   ]
  },
  {
   "cell_type": "code",
   "execution_count": 146,
   "metadata": {},
   "outputs": [],
   "source": [
    "joint_config = np.zeros((9,))[:-2]\n",
    "\n",
    "for i, joint_ind in enumerate(env.joints):\n",
    "    env.client_id.resetJointState(env.manipulator, joint_ind, joint_config[i])"
   ]
  }
 ],
 "metadata": {
  "kernelspec": {
   "display_name": "base",
   "language": "python",
   "name": "python3"
  },
  "language_info": {
   "codemirror_mode": {
    "name": "ipython",
    "version": 3
   },
   "file_extension": ".py",
   "mimetype": "text/x-python",
   "name": "python",
   "nbconvert_exporter": "python",
   "pygments_lexer": "ipython3",
   "version": "3.10.10"
  },
  "orig_nbformat": 4
 },
 "nbformat": 4,
 "nbformat_minor": 2
}
