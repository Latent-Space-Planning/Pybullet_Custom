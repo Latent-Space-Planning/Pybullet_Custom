{
 "cells": [
  {
   "cell_type": "code",
   "execution_count": 1,
   "metadata": {},
   "outputs": [
    {
     "name": "stderr",
     "output_type": "stream",
     "text": [
      "pybullet build time: Jul 17 2023 13:38:55\n"
     ]
    }
   ],
   "source": [
    "from pybullet_environment import *\n",
    "from guide import *\n",
    "\n",
    "import torch\n",
    "import os"
   ]
  },
  {
   "cell_type": "code",
   "execution_count": 2,
   "metadata": {},
   "outputs": [
    {
     "name": "stdout",
     "output_type": "stream",
     "text": [
      "argv[0]=\n",
      "startThreads creating 1 threads.\n",
      "starting thread 0\n",
      "started thread 0 \n",
      "argc=3\n",
      "argv[0] = --unused\n",
      "argv[1] = \n",
      "argv[2] = --start_demo_name=Physics Server\n",
      "ExampleBrowserThreadFunc started\n",
      "X11 functions dynamically loaded using dlopen/dlsym OK!\n",
      "X11 functions dynamically loaded using dlopen/dlsym OK!\n",
      "Creating context\n",
      "Created GL 3.3 context\n",
      "Direct GLX rendering context obtained\n",
      "Making context current\n",
      "GL_VENDOR=NVIDIA Corporation\n",
      "GL_RENDERER=NVIDIA GeForce GTX 1660 Ti/PCIe/SSE2\n",
      "GL_VERSION=3.3.0 NVIDIA 535.86.05\n",
      "GL_SHADING_LANGUAGE_VERSION=3.30 NVIDIA via Cg compiler\n",
      "pthread_getconcurrency()=0\n",
      "Version = 3.3.0 NVIDIA 535.86.05\n",
      "Vendor = NVIDIA Corporation\n",
      "Renderer = NVIDIA GeForce GTX 1660 Ti/PCIe/SSE2\n",
      "b3Printf: Selected demo: Physics Server\n",
      "startThreads creating 1 threads.\n",
      "starting thread 0\n",
      "started thread 0 \n",
      "MotionThreadFunc thread started\n"
     ]
    }
   ],
   "source": [
    "env = RobotEnvironment(manipulator = True, gui = True)"
   ]
  },
  {
   "cell_type": "markdown",
   "metadata": {},
   "source": [
    "### Define Scene Configuration:"
   ]
  },
  {
   "cell_type": "code",
   "execution_count": 29,
   "metadata": {},
   "outputs": [],
   "source": [
    "env.clear_obstacles()\n",
    "\n",
    "obstacle_config = np.zeros((1, 10))\n",
    "\n",
    "# Obstacle A:\n",
    "obs_pos = np.array([0.7, 0., 0.6])\n",
    "obs_quat = np.array(env.client_id.getQuaternionFromEuler(np.array([0., 0., 0.])))\n",
    "obs_size = np.array([0.3, 0.4, 1.2])\n",
    "obstacle_config[0] = np.array([*obs_pos, *obs_quat, *obs_size])\n",
    "\n",
    "# Obstacle B:\n",
    "# obs_pos = np.array([0.55, 0.4, 0.25])\n",
    "# obs_quat = np.array(env.client_id.getQuaternionFromEuler(np.array([0., 0., 0.])))\n",
    "# obs_size = np.array([0.3, 0.3, 0.5])\n",
    "# obstacle_config[1] = np.array([*obs_pos, *obs_quat, *obs_size])\n",
    "\n",
    "env.spawn_cuboids(obstacle_config)"
   ]
  },
  {
   "cell_type": "markdown",
   "metadata": {},
   "source": [
    "### Load Configuration:"
   ]
  },
  {
   "cell_type": "code",
   "execution_count": 3,
   "metadata": {},
   "outputs": [],
   "source": [
    "env.clear_obstacles()\n",
    "\n",
    "scene_name = \"long_wall_in_front2\"\n",
    "obstacle_config = np.load(\"scenes/\" + scene_name + \"/obstacle_config.npy\")\n",
    "\n",
    "env.spawn_cuboids(obstacle_config)"
   ]
  },
  {
   "cell_type": "code",
   "execution_count": 5,
   "metadata": {},
   "outputs": [
    {
     "name": "stdout",
     "output_type": "stream",
     "text": [
      "[[0.8  0.   0.6  0.   0.   0.   1.   0.3  0.06 1.2 ]]\n"
     ]
    }
   ],
   "source": [
    "print(obstacle_config)"
   ]
  },
  {
   "cell_type": "markdown",
   "metadata": {},
   "source": [
    "### Save Configuration:"
   ]
  },
  {
   "cell_type": "code",
   "execution_count": 30,
   "metadata": {},
   "outputs": [],
   "source": [
    "scene_name = \"long_wall_in_front2\"\n",
    "if not os.path.exists(\"scenes/\" + scene_name):\n",
    "    os.mkdir(\"scenes/\" + scene_name)\n",
    "    np.save(\"scenes/\" + scene_name + \"/obstacle_config.npy\", obstacle_config)\n",
    "else:\n",
    "    print(\"Scene already exists!!\")"
   ]
  },
  {
   "cell_type": "markdown",
   "metadata": {},
   "source": [
    "### Define Start and Goal:"
   ]
  },
  {
   "cell_type": "markdown",
   "metadata": {},
   "source": [
    "##### Start Config:"
   ]
  },
  {
   "cell_type": "code",
   "execution_count": 5,
   "metadata": {},
   "outputs": [],
   "source": [
    "start_joints = np.array([-0.421, 0.522, -0.337, -1.4, 0.341, 2.7, 0.272])\n",
    "\n",
    "for i, joint_ind in enumerate(env.joints):\n",
    "    env.client_id.resetJointState(env.manipulator, joint_ind, start_joints[i])"
   ]
  },
  {
   "cell_type": "markdown",
   "metadata": {},
   "source": [
    "##### Goal Config:"
   ]
  },
  {
   "cell_type": "code",
   "execution_count": 9,
   "metadata": {},
   "outputs": [],
   "source": [
    "goal_joints = np.array([1.3, 0.5573511, -0.929493, -1.412002, -0.23168434, 2.214461, -0.38091224])\n",
    "\n",
    "for i, joint_ind in enumerate(env.joints):\n",
    "    env.client_id.resetJointState(env.manipulator, joint_ind, goal_joints[i])"
   ]
  },
  {
   "cell_type": "markdown",
   "metadata": {},
   "source": [
    "### Save Start and Goal:"
   ]
  },
  {
   "cell_type": "code",
   "execution_count": 10,
   "metadata": {},
   "outputs": [
    {
     "ename": "",
     "evalue": "",
     "output_type": "error",
     "traceback": [
      "\u001b[1;31mThe Kernel crashed while executing code in the the current cell or a previous cell. Please review the code in the cell(s) to identify a possible cause of the failure. Click <a href='https://aka.ms/vscodeJupyterKernelCrash'>here</a> for more info. View Jupyter <a href='command:jupyter.viewOutput'>log</a> for further details."
     ]
    }
   ],
   "source": [
    "example_number = 2\n",
    "if os.path.exists(\"scenes/\" + scene_name):\n",
    "    if not os.path.exists(\"scenes/\" + scene_name + \"/start_goals\"):\n",
    "        os.mkdir(\"scenes/\" + scene_name + \"/start_goals\")\n",
    "    if not os.path.exists(\"scenes/\" + scene_name + \"/start_goals/example\" + str(example_number) + \".npy\"):\n",
    "        start_goal = np.concatenate([[start_joints], [goal_joints]], axis = 0)\n",
    "        np.save(\"scenes/\" + scene_name + \"/start_goals/example\" + str(example_number) + \".npy\", start_goal)\n",
    "    else:\n",
    "        print(\"Start Goal already exists !!\")\n",
    "else:\n",
    "    print(\"No such scene !!\")"
   ]
  },
  {
   "cell_type": "markdown",
   "metadata": {},
   "source": [
    "### Load Start and Goal:"
   ]
  },
  {
   "cell_type": "code",
   "execution_count": null,
   "metadata": {},
   "outputs": [],
   "source": [
    "start_goal = np.load(\"scenes/\" + scene_name + \"/start_goals/example\" + str(example_number) + \".npy\")\n",
    "start_joints = start_goal[0]\n",
    "goal_joints = start_goal[1]"
   ]
  },
  {
   "cell_type": "markdown",
   "metadata": {},
   "source": [
    "### --------------------------------------------------------------------------------------------------------------------------"
   ]
  },
  {
   "cell_type": "markdown",
   "metadata": {},
   "source": [
    "## MPiNet Scenes:"
   ]
  },
  {
   "cell_type": "code",
   "execution_count": 4,
   "metadata": {},
   "outputs": [],
   "source": [
    "env.clear_obstacles()\n",
    "\n",
    "obstacle_config, cuboid_config, cylinder_config, start_joints, goal_joints = env.get_mpinet_scene(15000, data = 'val')\n",
    "env.spawn_cuboids(cuboid_config)\n",
    "env.spawn_cylinders(cylinder_config)"
   ]
  },
  {
   "cell_type": "code",
   "execution_count": 7,
   "metadata": {},
   "outputs": [],
   "source": [
    "for i, joint_ind in enumerate(env.joints):\n",
    "    env.client_id.resetJointState(env.manipulator, joint_ind, start_joints[i])"
   ]
  },
  {
   "cell_type": "code",
   "execution_count": 8,
   "metadata": {},
   "outputs": [
    {
     "ename": "",
     "evalue": "",
     "output_type": "error",
     "traceback": [
      "\u001b[1;31mThe Kernel crashed while executing code in the the current cell or a previous cell. Please review the code in the cell(s) to identify a possible cause of the failure. Click <a href='https://aka.ms/vscodeJupyterKernelCrash'>here</a> for more info. View Jupyter <a href='command:jupyter.viewOutput'>log</a> for further details."
     ]
    }
   ],
   "source": [
    "for i, joint_ind in enumerate(env.joints):\n",
    "    env.client_id.resetJointState(env.manipulator, joint_ind, goal_joints[i])"
   ]
  }
 ],
 "metadata": {
  "kernelspec": {
   "display_name": "base",
   "language": "python",
   "name": "python3"
  },
  "language_info": {
   "codemirror_mode": {
    "name": "ipython",
    "version": 3
   },
   "file_extension": ".py",
   "mimetype": "text/x-python",
   "name": "python",
   "nbconvert_exporter": "python",
   "pygments_lexer": "ipython3",
   "version": "3.10.10"
  },
  "orig_nbformat": 4
 },
 "nbformat": 4,
 "nbformat_minor": 2
}
