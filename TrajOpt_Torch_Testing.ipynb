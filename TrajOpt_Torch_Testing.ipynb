{
 "cells": [
  {
   "cell_type": "code",
   "execution_count": 1,
   "metadata": {},
   "outputs": [
    {
     "name": "stderr",
     "output_type": "stream",
     "text": [
      "pybullet build time: Jul 17 2023 13:38:55\n"
     ]
    }
   ],
   "source": [
    "import torch\n",
    "from torch.autograd import Variable\n",
    "import numpy as np\n",
    "\n",
    "from pybullet_environment import RobotEnvironment\n",
    "from Baselines.trajopt_torch import TrajOpt\n",
    "\n",
    "device = \"cuda\" if torch.cuda.is_available() else \"cpu\""
   ]
  },
  {
   "cell_type": "code",
   "execution_count": 2,
   "metadata": {},
   "outputs": [
    {
     "name": "stdout",
     "output_type": "stream",
     "text": [
      "argv[0]=\n"
     ]
    }
   ],
   "source": [
    "env = RobotEnvironment(gui = False)\n",
    "trajopt = TrajOpt(env, num_joints = 7, traj_len = 128)"
   ]
  },
  {
   "cell_type": "code",
   "execution_count": 4,
   "metadata": {},
   "outputs": [],
   "source": [
    "start_joints = np.array([-1.9300085,  1.3141115,  2.1577177, -1.5229155, -0.7427585, 1.4192199, -1.3984755])\n",
    "goal_pose = np.array([0.5,  0.01,  0.4, 0.1, 0, 0, 0.0008])\n",
    "\n",
    "trajopt.initialize_problem(start_joints, goal_pose)"
   ]
  },
  {
   "cell_type": "code",
   "execution_count": 49,
   "metadata": {},
   "outputs": [],
   "source": [
    "trajopt.solve(epochs = 80000)"
   ]
  },
  {
   "cell_type": "code",
   "execution_count": 50,
   "metadata": {},
   "outputs": [
    {
     "name": "stdout",
     "output_type": "stream",
     "text": [
      "Total Cost = 0.27122230234839734\n",
      "Length Cost = 0.26209789089278585\n",
      "Goal Cost = 0.009124411455611475\n"
     ]
    }
   ],
   "source": [
    "print(\"Total Cost =\", trajopt.objective().detach().numpy(force = True))\n",
    "print(\"Length Cost =\", trajopt.length_cost(trajopt.theta).detach().numpy(force = True))\n",
    "print(\"Goal Cost =\", trajopt.goal_cost(trajopt.theta).detach().numpy(force = True))"
   ]
  },
  {
   "cell_type": "code",
   "execution_count": 42,
   "metadata": {},
   "outputs": [
    {
     "name": "stdout",
     "output_type": "stream",
     "text": [
      "tensor([[ 1.6034e-01,  1.0287e+00,  1.1400e-01,  5.5595e-01,  1.4385e-01,\n",
      "          5.7853e-01,  7.4982e-01],\n",
      "        [ 1.4746e-01,  1.0500e+00,  1.0011e-01,  5.6137e-01,  1.2908e-01,\n",
      "          5.8133e-01,  7.5769e-01],\n",
      "        [ 1.3442e-01,  1.0717e+00,  8.6085e-02,  5.6716e-01,  1.1416e-01,\n",
      "          5.8411e-01,  7.6562e-01],\n",
      "        [ 1.2123e-01,  1.0938e+00,  7.1936e-02,  5.7335e-01,  9.9098e-02,\n",
      "          5.8687e-01,  7.7360e-01],\n",
      "        [ 1.0790e-01,  1.1163e+00,  5.7681e-02,  5.7993e-01,  8.3916e-02,\n",
      "          5.8959e-01,  7.8162e-01],\n",
      "        [ 9.4449e-02,  1.1392e+00,  4.3336e-02,  5.8690e-01,  6.8634e-02,\n",
      "          5.9227e-01,  7.8968e-01],\n",
      "        [ 8.0902e-02,  1.1625e+00,  2.8919e-02,  5.9428e-01,  5.3268e-02,\n",
      "          5.9489e-01,  7.9776e-01],\n",
      "        [ 6.7273e-02,  1.1862e+00,  1.4447e-02,  6.0206e-01,  3.7839e-02,\n",
      "          5.9745e-01,  8.0585e-01],\n",
      "        [ 5.3579e-02,  1.2102e+00, -6.2368e-05,  6.1026e-01,  2.2366e-02,\n",
      "          5.9994e-01,  8.1395e-01],\n",
      "        [ 3.9838e-02,  1.2345e+00, -1.4591e-02,  6.1887e-01,  6.8690e-03,\n",
      "          6.0235e-01,  8.2203e-01]], device='cuda:0', grad_fn=<SliceBackward0>)\n"
     ]
    }
   ],
   "source": [
    "print(trajopt.theta[-10:, :])"
   ]
  },
  {
   "cell_type": "code",
   "execution_count": 51,
   "metadata": {},
   "outputs": [],
   "source": [
    "final_traj = trajopt.theta.numpy(force=True)\n",
    "np.save(\"final_traj.npy\", final_traj)"
   ]
  },
  {
   "cell_type": "code",
   "execution_count": 20,
   "metadata": {},
   "outputs": [
    {
     "name": "stdout",
     "output_type": "stream",
     "text": [
      "tensor(0., device='cuda:0')\n",
      "tensor(160.7867, device='cuda:0')\n",
      "tensor(4.3555, device='cuda:0', dtype=torch.float64)\n"
     ]
    }
   ],
   "source": [
    "zero_grad = torch.zeros((128, 7)).to(device)\n",
    "\n",
    "print(trajopt.objective(zero_grad[1:, :]))\n",
    "print(trajopt.length_cost(trajopt.theta))\n",
    "print(trajopt.goal_cost(trajopt.theta))\n",
    "#print(trajopt.theta)"
   ]
  },
  {
   "cell_type": "code",
   "execution_count": 14,
   "metadata": {},
   "outputs": [],
   "source": [
    "theta = torch.tensor([-1.9300085,  1.3141115,  2.1577177, -1.5229155, -0.7427585, 1.4192199, -1.3984755]).to(device)\n",
    "theta = torch.rand((10, 7)).to(device) \n",
    "grad_theta = torch.zeros_like(theta, requires_grad = True).to(device)\n",
    "\n",
    "goal_pose = np.array([0.5,  0.01,  0.4, 0.1, 0, 0, 0.0008])\n",
    "goal_transform = torch.tensor(env.pose_to_transformation(goal_pose)).to(device)"
   ]
  },
  {
   "cell_type": "code",
   "execution_count": 5,
   "metadata": {},
   "outputs": [
    {
     "name": "stdout",
     "output_type": "stream",
     "text": [
      "True\n"
     ]
    }
   ],
   "source": [
    "print(grad_theta.requires_grad)"
   ]
  },
  {
   "cell_type": "code",
   "execution_count": 8,
   "metadata": {},
   "outputs": [
    {
     "name": "stdout",
     "output_type": "stream",
     "text": [
      "tensor(0.1070, device='cuda:0', dtype=torch.float64, grad_fn=<SumBackward0>)\n"
     ]
    }
   ],
   "source": [
    "for i in range(500):\n",
    "\n",
    "    grad_theta.grad = None\n",
    "\n",
    "    new_theta = theta + grad_theta\n",
    "\n",
    "    current_transform = trajopt.forward_kinematics(new_theta[-1, :]).to(device)\n",
    "\n",
    "    goal_error = torch.sum((goal_transform - current_transform) ** 2)\n",
    "\n",
    "    #grad = torch.autograd.grad(goal_error, grad_theta)\n",
    "    goal_error.backward()\n",
    "\n",
    "    with torch.no_grad():\n",
    "        grad_theta -= 0.002*grad_theta.grad\n",
    "\n",
    "print(goal_error)\n"
   ]
  },
  {
   "cell_type": "code",
   "execution_count": 274,
   "metadata": {},
   "outputs": [
    {
     "name": "stdout",
     "output_type": "stream",
     "text": [
      "tensor([[ 9.9999e-01,  6.7118e-04, -5.1359e-03,  5.1666e-01],\n",
      "        [ 5.8642e-04, -9.9986e-01, -1.6490e-02,  8.7427e-03],\n",
      "        [-5.1463e-03,  1.6486e-02, -9.9985e-01,  4.2422e-01],\n",
      "        [ 0.0000e+00,  0.0000e+00,  0.0000e+00,  1.0000e+00]],\n",
      "       grad_fn=<MmBackward0>)\n",
      "tensor([[ 1.0000,  0.0000,  0.0000,  0.5000],\n",
      "        [ 0.0000, -0.9999, -0.0160,  0.0100],\n",
      "        [ 0.0000,  0.0160, -0.9999,  0.4000],\n",
      "        [ 0.0000,  0.0000,  0.0000,  1.0000]], dtype=torch.float64)\n",
      "tensor([-1.7249,  0.4717,  1.9645, -1.9570, -0.4539,  1.7351,  1.1511],\n",
      "       grad_fn=<AddBackward0>)\n"
     ]
    }
   ],
   "source": [
    "new_theta = theta + grad_theta\n",
    "\n",
    "current_transform = trajopt.forward_kinematics(new_theta)\n",
    "\n",
    "print(current_transform)\n",
    "print(goal_transform)\n",
    "print(new_theta)"
   ]
  },
  {
   "cell_type": "code",
   "execution_count": 44,
   "metadata": {},
   "outputs": [],
   "source": [
    "env.client_id.disconnect()"
   ]
  }
 ],
 "metadata": {
  "kernelspec": {
   "display_name": "base",
   "language": "python",
   "name": "python3"
  },
  "language_info": {
   "codemirror_mode": {
    "name": "ipython",
    "version": 3
   },
   "file_extension": ".py",
   "mimetype": "text/x-python",
   "name": "python",
   "nbconvert_exporter": "python",
   "pygments_lexer": "ipython3",
   "version": "3.10.10"
  },
  "orig_nbformat": 4
 },
 "nbformat": 4,
 "nbformat_minor": 2
}
